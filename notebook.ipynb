{
 "cells": [
  {
   "cell_type": "markdown",
   "id": "38ec000e",
   "metadata": {},
   "source": [
    "# Business Understanding"
   ]
  },
  {
   "cell_type": "markdown",
   "id": "85a466c4",
   "metadata": {},
   "source": []
  },
  {
   "cell_type": "markdown",
   "id": "28961224",
   "metadata": {},
   "source": [
    "# Data Understanding"
   ]
  },
  {
   "cell_type": "code",
   "execution_count": 74,
   "id": "1a30b4d9",
   "metadata": {
    "scrolled": true
   },
   "outputs": [],
   "source": [
    "import pandas as pd\n",
    "import numpy as np\n",
    "import csv\n",
    "from matplotlib import pyplot as plt\n",
    "%matplotlib inline"
   ]
  },
  {
   "cell_type": "code",
   "execution_count": 75,
   "id": "10796d80",
   "metadata": {},
   "outputs": [
    {
     "name": "stderr",
     "output_type": "stream",
     "text": [
      "C:\\Users\\hrcoh\\AppData\\Local\\Temp\\ipykernel_13936\\2555783615.py:1: DtypeWarning: Columns (6,7,28) have mixed types. Specify dtype option on import or set low_memory=False.\n",
      "  df=pd.read_csv('Data/AviationData.csv', encoding='latin-1')\n"
     ]
    }
   ],
   "source": [
    "df=pd.read_csv('Data/AviationData.csv', encoding='latin-1', low_memory=False)"
   ]
  },
  {
   "cell_type": "code",
   "execution_count": 76,
   "id": "d35f0823",
   "metadata": {},
   "outputs": [
    {
     "data": {
      "text/plain": [
       "Index(['Event.Id', 'Investigation.Type', 'Accident.Number', 'Event.Date',\n",
       "       'Location', 'Country', 'Latitude', 'Longitude', 'Airport.Code',\n",
       "       'Airport.Name', 'Injury.Severity', 'Aircraft.damage',\n",
       "       'Aircraft.Category', 'Registration.Number', 'Make', 'Model',\n",
       "       'Amateur.Built', 'Number.of.Engines', 'Engine.Type', 'FAR.Description',\n",
       "       'Schedule', 'Purpose.of.flight', 'Air.carrier', 'Total.Fatal.Injuries',\n",
       "       'Total.Serious.Injuries', 'Total.Minor.Injuries', 'Total.Uninjured',\n",
       "       'Weather.Condition', 'Broad.phase.of.flight', 'Report.Status',\n",
       "       'Publication.Date'],\n",
       "      dtype='object')"
      ]
     },
     "execution_count": 76,
     "metadata": {},
     "output_type": "execute_result"
    }
   ],
   "source": [
    "df.columns"
   ]
  },
  {
   "cell_type": "code",
   "execution_count": 77,
   "id": "d2d29a20",
   "metadata": {},
   "outputs": [
    {
     "name": "stdout",
     "output_type": "stream",
     "text": [
      "<class 'pandas.core.frame.DataFrame'>\n",
      "RangeIndex: 88889 entries, 0 to 88888\n",
      "Data columns (total 31 columns):\n",
      " #   Column                  Non-Null Count  Dtype  \n",
      "---  ------                  --------------  -----  \n",
      " 0   Event.Id                88889 non-null  object \n",
      " 1   Investigation.Type      88889 non-null  object \n",
      " 2   Accident.Number         88889 non-null  object \n",
      " 3   Event.Date              88889 non-null  object \n",
      " 4   Location                88837 non-null  object \n",
      " 5   Country                 88663 non-null  object \n",
      " 6   Latitude                34382 non-null  object \n",
      " 7   Longitude               34373 non-null  object \n",
      " 8   Airport.Code            50132 non-null  object \n",
      " 9   Airport.Name            52704 non-null  object \n",
      " 10  Injury.Severity         87889 non-null  object \n",
      " 11  Aircraft.damage         85695 non-null  object \n",
      " 12  Aircraft.Category       32287 non-null  object \n",
      " 13  Registration.Number     87507 non-null  object \n",
      " 14  Make                    88826 non-null  object \n",
      " 15  Model                   88797 non-null  object \n",
      " 16  Amateur.Built           88787 non-null  object \n",
      " 17  Number.of.Engines       82805 non-null  float64\n",
      " 18  Engine.Type             81793 non-null  object \n",
      " 19  FAR.Description         32023 non-null  object \n",
      " 20  Schedule                12582 non-null  object \n",
      " 21  Purpose.of.flight       82697 non-null  object \n",
      " 22  Air.carrier             16648 non-null  object \n",
      " 23  Total.Fatal.Injuries    77488 non-null  float64\n",
      " 24  Total.Serious.Injuries  76379 non-null  float64\n",
      " 25  Total.Minor.Injuries    76956 non-null  float64\n",
      " 26  Total.Uninjured         82977 non-null  float64\n",
      " 27  Weather.Condition       84397 non-null  object \n",
      " 28  Broad.phase.of.flight   61724 non-null  object \n",
      " 29  Report.Status           82505 non-null  object \n",
      " 30  Publication.Date        75118 non-null  object \n",
      "dtypes: float64(5), object(26)\n",
      "memory usage: 21.0+ MB\n"
     ]
    }
   ],
   "source": [
    "#Explore data\n",
    "df.info()"
   ]
  },
  {
   "cell_type": "code",
   "execution_count": 78,
   "id": "29ab6a75",
   "metadata": {},
   "outputs": [
    {
     "data": {
      "text/html": [
       "<div>\n",
       "<style scoped>\n",
       "    .dataframe tbody tr th:only-of-type {\n",
       "        vertical-align: middle;\n",
       "    }\n",
       "\n",
       "    .dataframe tbody tr th {\n",
       "        vertical-align: top;\n",
       "    }\n",
       "\n",
       "    .dataframe thead th {\n",
       "        text-align: right;\n",
       "    }\n",
       "</style>\n",
       "<table border=\"1\" class=\"dataframe\">\n",
       "  <thead>\n",
       "    <tr style=\"text-align: right;\">\n",
       "      <th></th>\n",
       "      <th>Number.of.Engines</th>\n",
       "      <th>Total.Fatal.Injuries</th>\n",
       "      <th>Total.Serious.Injuries</th>\n",
       "      <th>Total.Minor.Injuries</th>\n",
       "      <th>Total.Uninjured</th>\n",
       "    </tr>\n",
       "  </thead>\n",
       "  <tbody>\n",
       "    <tr>\n",
       "      <th>count</th>\n",
       "      <td>82805.000000</td>\n",
       "      <td>77488.000000</td>\n",
       "      <td>76379.000000</td>\n",
       "      <td>76956.000000</td>\n",
       "      <td>82977.000000</td>\n",
       "    </tr>\n",
       "    <tr>\n",
       "      <th>mean</th>\n",
       "      <td>1.146585</td>\n",
       "      <td>0.647855</td>\n",
       "      <td>0.279881</td>\n",
       "      <td>0.357061</td>\n",
       "      <td>5.325440</td>\n",
       "    </tr>\n",
       "    <tr>\n",
       "      <th>std</th>\n",
       "      <td>0.446510</td>\n",
       "      <td>5.485960</td>\n",
       "      <td>1.544084</td>\n",
       "      <td>2.235625</td>\n",
       "      <td>27.913634</td>\n",
       "    </tr>\n",
       "    <tr>\n",
       "      <th>min</th>\n",
       "      <td>0.000000</td>\n",
       "      <td>0.000000</td>\n",
       "      <td>0.000000</td>\n",
       "      <td>0.000000</td>\n",
       "      <td>0.000000</td>\n",
       "    </tr>\n",
       "    <tr>\n",
       "      <th>25%</th>\n",
       "      <td>1.000000</td>\n",
       "      <td>0.000000</td>\n",
       "      <td>0.000000</td>\n",
       "      <td>0.000000</td>\n",
       "      <td>0.000000</td>\n",
       "    </tr>\n",
       "    <tr>\n",
       "      <th>50%</th>\n",
       "      <td>1.000000</td>\n",
       "      <td>0.000000</td>\n",
       "      <td>0.000000</td>\n",
       "      <td>0.000000</td>\n",
       "      <td>1.000000</td>\n",
       "    </tr>\n",
       "    <tr>\n",
       "      <th>75%</th>\n",
       "      <td>1.000000</td>\n",
       "      <td>0.000000</td>\n",
       "      <td>0.000000</td>\n",
       "      <td>0.000000</td>\n",
       "      <td>2.000000</td>\n",
       "    </tr>\n",
       "    <tr>\n",
       "      <th>max</th>\n",
       "      <td>8.000000</td>\n",
       "      <td>349.000000</td>\n",
       "      <td>161.000000</td>\n",
       "      <td>380.000000</td>\n",
       "      <td>699.000000</td>\n",
       "    </tr>\n",
       "  </tbody>\n",
       "</table>\n",
       "</div>"
      ],
      "text/plain": [
       "       Number.of.Engines  Total.Fatal.Injuries  Total.Serious.Injuries  \\\n",
       "count       82805.000000          77488.000000            76379.000000   \n",
       "mean            1.146585              0.647855                0.279881   \n",
       "std             0.446510              5.485960                1.544084   \n",
       "min             0.000000              0.000000                0.000000   \n",
       "25%             1.000000              0.000000                0.000000   \n",
       "50%             1.000000              0.000000                0.000000   \n",
       "75%             1.000000              0.000000                0.000000   \n",
       "max             8.000000            349.000000              161.000000   \n",
       "\n",
       "       Total.Minor.Injuries  Total.Uninjured  \n",
       "count          76956.000000     82977.000000  \n",
       "mean               0.357061         5.325440  \n",
       "std                2.235625        27.913634  \n",
       "min                0.000000         0.000000  \n",
       "25%                0.000000         0.000000  \n",
       "50%                0.000000         1.000000  \n",
       "75%                0.000000         2.000000  \n",
       "max              380.000000       699.000000  "
      ]
     },
     "execution_count": 78,
     "metadata": {},
     "output_type": "execute_result"
    }
   ],
   "source": [
    "#Explore summary statistics\n",
    "df.describe()"
   ]
  },
  {
   "cell_type": "code",
   "execution_count": 79,
   "id": "92bf4fd5",
   "metadata": {},
   "outputs": [
    {
     "name": "stdout",
     "output_type": "stream",
     "text": [
      "['No' 'Yes' nan] \n",
      "\n",
      "[nan 'Part 129: Foreign' 'Part 91: General Aviation'\n",
      " 'Part 135: Air Taxi & Commuter' 'Part 125: 20+ Pax,6000+ lbs'\n",
      " 'Part 121: Air Carrier' 'Part 137: Agricultural'\n",
      " 'Part 133: Rotorcraft Ext. Load' 'Unknown' 'Part 91F: Special Flt Ops.'\n",
      " 'Non-U.S., Non-Commercial' 'Public Aircraft' 'Non-U.S., Commercial'\n",
      " 'Public Use' 'Armed Forces' 'Part 91 Subpart K: Fractional' '091' 'NUSC'\n",
      " '135' 'NUSN' '121' '137' '129' '133' '091K' 'UNK' 'PUBU' 'ARMF' '103'\n",
      " '125' '437' '107'] \n",
      "\n",
      "[nan 'SCHD' 'NSCH' 'UNK'] \n",
      "\n",
      "['Probable Cause' 'Factual' 'Foreign' ...\n",
      " 'The pilot did not ensure adequate clearance from construction vehicles during taxi.'\n",
      " 'The pilot\\x92s failure to secure the magneto switch before attempting to hand rotate the engine which resulted in an inadvertent engine start, a runaway airplane, and subsequent impact with parked airplanes. Contributing to the accident was the failure to properly secure the airplane with chocks.'\n",
      " 'The pilot\\x92s loss of control due to a wind gust during landing.'] \n",
      "\n",
      "['NC6404' 'N5069P' 'N5142R' ... 'N749PJ' 'N210CU' 'N9026P'] \n",
      "\n",
      "['Destroyed' 'Substantial' 'Minor' nan 'Unknown'] \n",
      "\n",
      "['Reciprocating' nan 'Turbo Fan' 'Turbo Shaft' 'Unknown' 'Turbo Prop'\n",
      " 'Turbo Jet' 'Electric' 'Hybrid Rocket' 'Geared Turbofan' 'LR' 'NONE'\n",
      " 'UNK'] \n",
      "\n",
      "[nan 'Airplane' 'Helicopter' 'Glider' 'Balloon' 'Gyrocraft' 'Ultralight'\n",
      " 'Unknown' 'Blimp' 'Powered-Lift' 'Weight-Shift' 'Powered Parachute'\n",
      " 'Rocket' 'WSFT' 'UNK' 'ULTR']\n"
     ]
    }
   ],
   "source": [
    "#Looking at unique values in the columns that I don't fully understand\n",
    "print(df['Amateur.Built'].unique(),'\\n')\n",
    "print(df['FAR.Description'].unique(),'\\n')\n",
    "print(df['Schedule'].unique(),'\\n')\n",
    "print(df['Report.Status'].unique(),'\\n')\n",
    "print(df['Registration.Number'].unique(),'\\n')\n",
    "print(df['Aircraft.damage'].unique(),'\\n')\n",
    "print(df['Engine.Type'].unique(),'\\n')\n",
    "print(df['Aircraft.Category'].unique())"
   ]
  },
  {
   "cell_type": "markdown",
   "id": "e67f0159",
   "metadata": {},
   "source": [
    "For our analysis, we can drop FAR Description, Schedule, and Registration Number. Report Status. Amateur Built, Aircraft Category, Engine Type and Aircraft Damage may be helpful."
   ]
  },
  {
   "cell_type": "code",
   "execution_count": 80,
   "id": "531f0e75",
   "metadata": {},
   "outputs": [
    {
     "name": "stdout",
     "output_type": "stream",
     "text": [
      "['Fatal(2)' 'Fatal(4)' 'Fatal(3)' 'Fatal(1)' 'Non-Fatal' 'Incident'\n",
      " 'Fatal(8)' 'Fatal(78)' 'Fatal(7)' 'Fatal(6)' 'Fatal(5)' 'Fatal(153)'\n",
      " 'Fatal(12)' 'Fatal(14)' 'Fatal(23)' 'Fatal(10)' 'Fatal(11)' 'Fatal(9)'\n",
      " 'Fatal(17)' 'Fatal(13)' 'Fatal(29)' 'Fatal(70)' 'Unavailable'\n",
      " 'Fatal(135)' 'Fatal(31)' 'Fatal(256)' 'Fatal(25)' 'Fatal(82)'\n",
      " 'Fatal(156)' 'Fatal(28)' 'Fatal(18)' 'Fatal(43)' 'Fatal(15)' 'Fatal(270)'\n",
      " 'Fatal(144)' 'Fatal(174)' 'Fatal(111)' 'Fatal(131)' 'Fatal(20)'\n",
      " 'Fatal(73)' 'Fatal(27)' 'Fatal(34)' 'Fatal(87)' 'Fatal(30)' 'Fatal(16)'\n",
      " 'Fatal(47)' 'Fatal(56)' 'Fatal(37)' 'Fatal(132)' 'Fatal(68)' 'Fatal(54)'\n",
      " 'Fatal(52)' 'Fatal(65)' 'Fatal(72)' 'Fatal(160)' 'Fatal(189)'\n",
      " 'Fatal(123)' 'Fatal(33)' 'Fatal(110)' 'Fatal(230)' 'Fatal(97)'\n",
      " 'Fatal(349)' 'Fatal(125)' 'Fatal(35)' 'Fatal(228)' 'Fatal(75)'\n",
      " 'Fatal(104)' 'Fatal(229)' 'Fatal(80)' 'Fatal(217)' 'Fatal(169)'\n",
      " 'Fatal(88)' 'Fatal(19)' 'Fatal(60)' 'Fatal(113)' 'Fatal(143)' 'Fatal(83)'\n",
      " 'Fatal(24)' 'Fatal(44)' 'Fatal(64)' 'Fatal(92)' 'Fatal(118)' 'Fatal(265)'\n",
      " 'Fatal(26)' 'Fatal(138)' 'Fatal(206)' 'Fatal(71)' 'Fatal(21)' 'Fatal(46)'\n",
      " 'Fatal(102)' 'Fatal(115)' 'Fatal(141)' 'Fatal(55)' 'Fatal(121)'\n",
      " 'Fatal(45)' 'Fatal(145)' 'Fatal(117)' 'Fatal(107)' 'Fatal(124)'\n",
      " 'Fatal(49)' 'Fatal(154)' 'Fatal(96)' 'Fatal(114)' 'Fatal(199)'\n",
      " 'Fatal(89)' 'Fatal(57)' 'Fatal' nan 'Minor' 'Serious'] \n",
      "\n",
      "[  2.   4.   3.   1.  nan   0.   8.  78.   7.   6.   5. 153.  12.  14.\n",
      "  23.  10.  11.   9.  17.  13.  29.  70. 135.  31. 256.  25.  82. 156.\n",
      "  28.  18.  43.  15. 270. 144. 174. 111. 131.  20.  73.  27.  34.  87.\n",
      "  30.  16.  47.  56.  37. 132.  68.  54.  52.  65.  72. 160. 189. 123.\n",
      "  33. 110. 230.  97. 349. 125.  35. 228.  75. 104. 229.  80. 217. 169.\n",
      "  88.  19.  60. 113. 143.  83.  24.  44.  64.  92. 118. 265.  26. 138.\n",
      " 206.  71.  21.  46. 102. 115. 141.  55. 121.  45. 145. 117. 107. 124.\n",
      "  49. 154.  96. 114. 199.  89.  57. 152.  90. 103. 158. 157.  42.  77.\n",
      " 127.  50. 239. 295.  58. 162. 150. 224.  62.  66. 112. 188.  41. 176.] \n",
      "\n",
      "[  0.  nan   2.   1.   6.   4.   5.  10.   3.   8.   9.   7.  15.  17.\n",
      "  28.  26.  47.  14.  81.  13. 106.  60.  16.  21.  50.  44.  18.  12.\n",
      "  45.  39.  43.  11.  25.  59.  23.  55.  63.  88.  41.  34.  53.  33.\n",
      "  67.  35.  20. 137.  19.  27. 125. 161.  22.] \n",
      "\n",
      "[  0.  nan   1.   3.   2.   4.  24.   6.   5.  25.  17.  19.  33.  14.\n",
      "   8.  13.  15.   7.   9.  16.  20.  11.  12.  10.  38.  42.  29.  62.\n",
      "  28.  31.  39.  32.  18.  27.  57.  50.  23. 125.  45.  26.  36.  69.\n",
      "  21.  96.  30.  22.  58. 171.  65.  71. 200.  68.  47. 380.  35.  43.\n",
      "  84.  40.] \n",
      "\n",
      "[  0.  nan  44.   2.   1.   3.   6.   4. 149.  12. 182. 154.   5.  10.\n",
      "   7. 119.  36.  51.  16.  83.   9.  68.  30.  20.  18.   8. 108.  11.\n",
      " 152.  21.  48.  56. 113. 129. 109.  29.  13.  84.  74. 142. 102. 393.\n",
      " 128. 112.  17.  65.  67. 136.  23. 116.  22.  57.  58.  73. 203.  31.\n",
      " 201. 412. 159.  39. 186. 588.  82.  95. 146. 190. 245. 172.  52.  25.\n",
      "  59. 131. 151. 180. 150.  86.  19. 133. 240.  15. 145. 125. 440.  77.\n",
      " 122. 205. 289. 110.  79.  66.  87.  78.  49. 104. 250.  33. 138. 100.\n",
      "  53. 158. 127. 160. 260.  47.  38. 165. 495.  81.  41.  14.  72.  98.\n",
      " 263. 188. 239.  27. 105. 111. 212. 157.  46. 121.  75.  71.  45.  91.\n",
      "  99.  85.  96.  50.  93. 276. 365. 371. 200. 103. 189.  37. 107.  61.\n",
      "  26. 271. 130.  89. 439. 132. 219.  43. 238. 195. 118. 175.  32. 507.\n",
      " 421.  90. 225. 269. 169. 236. 224. 134. 106. 331. 140.  94. 192. 161.\n",
      " 270.  69. 436. 213. 233. 115.  42. 167. 137. 114. 148. 222.  92. 375.\n",
      "  76. 171. 173. 246. 234. 123. 220. 202. 408. 279. 363. 135. 528. 334.\n",
      " 178. 147. 126.  62.  70.  97. 228. 226.  64. 290. 206. 297. 349. 208.\n",
      " 144.  54.  24. 258. 304. 274. 286.  55. 199. 221.  80. 272. 211. 262.\n",
      " 441. 194. 309. 185. 261. 241. 383. 177. 259. 244. 254. 156.  40.  34.\n",
      " 247. 176.  63.  28. 218. 282. 320. 204. 124. 215. 298. 120. 280. 179.\n",
      " 315. 461. 153.  60. 308.  88. 361. 277. 191. 235. 187. 101. 162.  35.\n",
      " 197. 193. 164. 370. 387. 163. 139. 267. 357. 339. 288. 231. 300. 255.\n",
      " 306. 443. 385. 248. 459. 141. 414. 229. 166. 209. 184. 168. 170. 198.\n",
      " 299. 573. 223. 265. 322. 196. 117. 253. 399. 360. 252. 217. 155. 183.\n",
      " 227. 249. 329. 340. 699. 325. 287. 143. 243. 230. 386. 181. 257. 283.\n",
      " 404. 319. 450. 356. 216. 174. 558. 214. 448. 324. 338. 273. 232. 401.\n",
      " 312. 368. 501. 237. 307. 296. 291. 403. 314. 285. 311. 293. 352. 332.\n",
      " 384. 275. 210. 268. 326. 454. 278. 576. 380. 394. 362. 397. 359. 264.\n",
      " 333. 367. 302. 348. 351. 358. 295. 321. 521. 301. 294. 378. 207. 406.\n",
      " 251. 455.]\n"
     ]
    }
   ],
   "source": [
    "#Understanding differences bewteen injury columns\n",
    "print(df['Injury.Severity'].unique(),'\\n')\n",
    "print(df['Total.Fatal.Injuries'].unique(),'\\n')\n",
    "print(df['Total.Serious.Injuries'].unique(),'\\n')\n",
    "print(df['Total.Minor.Injuries'].unique(),'\\n')\n",
    "print(df['Total.Uninjured'].unique())"
   ]
  },
  {
   "cell_type": "markdown",
   "id": "99a4b5ed",
   "metadata": {},
   "source": [
    "### Data Understanding Summary"
   ]
  },
  {
   "cell_type": "markdown",
   "id": "00157ebd",
   "metadata": {},
   "source": [
    "There are 31 columns and 88889 rows.\n",
    "\n",
    "These are some areas we'll consider cleaning or analyzing:\n",
    "\n",
    "Injury Severity gives us similar information to Total Fatal Injuries, Serious Injuries, Minor Injuries, and Uninjured. We may consider splitting Injury Severity so it just has the word classification and the number of injuries will be kept in the other columns.\n",
    "\n",
    "Unknown: There are values included in some columns like 'Unknown, UNK, and Unavailable that are the same thing as Nan. We will note this for later.\n",
    "\n",
    "Ensure data types are correct for each column.\n",
    "\n",
    "Ensure there are no duplicates and that value formatting is standardized.\n",
    "\n",
    "Drop columns that do not give us relevant information."
   ]
  },
  {
   "cell_type": "markdown",
   "id": "d8e5ccc0",
   "metadata": {},
   "source": [
    "## Data Preparation"
   ]
  },
  {
   "cell_type": "code",
   "execution_count": 81,
   "id": "4cd66602",
   "metadata": {},
   "outputs": [],
   "source": [
    "df_copy = df.copy()"
   ]
  },
  {
   "cell_type": "code",
   "execution_count": 82,
   "id": "04dee706",
   "metadata": {},
   "outputs": [
    {
     "name": "stdout",
     "output_type": "stream",
     "text": [
      "<class 'pandas.core.frame.DataFrame'>\n",
      "RangeIndex: 88889 entries, 0 to 88888\n",
      "Data columns (total 31 columns):\n",
      " #   Column                  Non-Null Count  Dtype         \n",
      "---  ------                  --------------  -----         \n",
      " 0   Event.Id                88889 non-null  object        \n",
      " 1   Investigation.Type      88889 non-null  object        \n",
      " 2   Accident.Number         88889 non-null  object        \n",
      " 3   Event.Date              88889 non-null  datetime64[ns]\n",
      " 4   Location                88837 non-null  object        \n",
      " 5   Country                 88663 non-null  object        \n",
      " 6   Latitude                34382 non-null  object        \n",
      " 7   Longitude               34373 non-null  object        \n",
      " 8   Airport.Code            50132 non-null  object        \n",
      " 9   Airport.Name            52704 non-null  object        \n",
      " 10  Injury.Severity         87889 non-null  object        \n",
      " 11  Aircraft.damage         85695 non-null  object        \n",
      " 12  Aircraft.Category       32287 non-null  object        \n",
      " 13  Registration.Number     87507 non-null  object        \n",
      " 14  Make                    88826 non-null  object        \n",
      " 15  Model                   88797 non-null  object        \n",
      " 16  Amateur.Built           88787 non-null  object        \n",
      " 17  Number.of.Engines       82805 non-null  float64       \n",
      " 18  Engine.Type             81793 non-null  object        \n",
      " 19  FAR.Description         32023 non-null  object        \n",
      " 20  Schedule                12582 non-null  object        \n",
      " 21  Purpose.of.flight       82697 non-null  object        \n",
      " 22  Air.carrier             16648 non-null  object        \n",
      " 23  Total.Fatal.Injuries    77488 non-null  float64       \n",
      " 24  Total.Serious.Injuries  76379 non-null  float64       \n",
      " 25  Total.Minor.Injuries    76956 non-null  float64       \n",
      " 26  Total.Uninjured         82977 non-null  float64       \n",
      " 27  Weather.Condition       84397 non-null  object        \n",
      " 28  Broad.phase.of.flight   61724 non-null  object        \n",
      " 29  Report.Status           82505 non-null  object        \n",
      " 30  Publication.Date        75118 non-null  object        \n",
      "dtypes: datetime64[ns](1), float64(5), object(25)\n",
      "memory usage: 21.0+ MB\n"
     ]
    }
   ],
   "source": [
    "#Change date column to datetime data type\n",
    "df['Event.Date']=pd.to_datetime(df['Event.Date'], format='%Y-%m-%d')\n",
    "df.info()"
   ]
  },
  {
   "cell_type": "code",
   "execution_count": 83,
   "id": "4496b825",
   "metadata": {},
   "outputs": [
    {
     "data": {
      "text/plain": [
       "False"
      ]
     },
     "execution_count": 83,
     "metadata": {},
     "output_type": "execute_result"
    }
   ],
   "source": [
    "#Check for duplicates\n",
    "df.duplicated().any()"
   ]
  },
  {
   "cell_type": "code",
   "execution_count": 84,
   "id": "a5753885",
   "metadata": {},
   "outputs": [
    {
     "data": {
      "text/plain": [
       "Event.Id                  False\n",
       "Investigation.Type        False\n",
       "Accident.Number           False\n",
       "Event.Date                False\n",
       "Location                   True\n",
       "Country                    True\n",
       "Latitude                   True\n",
       "Longitude                  True\n",
       "Airport.Code               True\n",
       "Airport.Name               True\n",
       "Injury.Severity            True\n",
       "Aircraft.damage            True\n",
       "Aircraft.Category          True\n",
       "Registration.Number        True\n",
       "Make                       True\n",
       "Model                      True\n",
       "Amateur.Built              True\n",
       "Number.of.Engines          True\n",
       "Engine.Type                True\n",
       "FAR.Description            True\n",
       "Schedule                   True\n",
       "Purpose.of.flight          True\n",
       "Air.carrier                True\n",
       "Total.Fatal.Injuries       True\n",
       "Total.Serious.Injuries     True\n",
       "Total.Minor.Injuries       True\n",
       "Total.Uninjured            True\n",
       "Weather.Condition          True\n",
       "Broad.phase.of.flight      True\n",
       "Report.Status              True\n",
       "Publication.Date           True\n",
       "dtype: bool"
      ]
     },
     "execution_count": 84,
     "metadata": {},
     "output_type": "execute_result"
    }
   ],
   "source": [
    "#Checking for Missing Data or Nulls\n",
    "df.isna().any()"
   ]
  },
  {
   "cell_type": "code",
   "execution_count": 85,
   "id": "0de0c34d",
   "metadata": {},
   "outputs": [
    {
     "data": {
      "text/plain": [
       "Event.Id                      0\n",
       "Investigation.Type            0\n",
       "Accident.Number               0\n",
       "Event.Date                    0\n",
       "Location                     52\n",
       "Country                     226\n",
       "Latitude                  54507\n",
       "Longitude                 54516\n",
       "Airport.Code              38757\n",
       "Airport.Name              36185\n",
       "Injury.Severity            1000\n",
       "Aircraft.damage            3194\n",
       "Aircraft.Category         56602\n",
       "Registration.Number        1382\n",
       "Make                         63\n",
       "Model                        92\n",
       "Amateur.Built               102\n",
       "Number.of.Engines          6084\n",
       "Engine.Type                7096\n",
       "FAR.Description           56866\n",
       "Schedule                  76307\n",
       "Purpose.of.flight          6192\n",
       "Air.carrier               72241\n",
       "Total.Fatal.Injuries      11401\n",
       "Total.Serious.Injuries    12510\n",
       "Total.Minor.Injuries      11933\n",
       "Total.Uninjured            5912\n",
       "Weather.Condition          4492\n",
       "Broad.phase.of.flight     27165\n",
       "Report.Status              6384\n",
       "Publication.Date          13771\n",
       "dtype: int64"
      ]
     },
     "execution_count": 85,
     "metadata": {},
     "output_type": "execute_result"
    }
   ],
   "source": [
    "#Checking how many nulls in each column\n",
    "df.isna().sum()"
   ]
  },
  {
   "cell_type": "code",
   "execution_count": 86,
   "id": "a02206ca",
   "metadata": {},
   "outputs": [
    {
     "data": {
      "text/plain": [
       "Event.Id                   0.000000\n",
       "Investigation.Type         0.000000\n",
       "Accident.Number            0.000000\n",
       "Event.Date                 0.000000\n",
       "Location                   0.058500\n",
       "Country                    0.254250\n",
       "Latitude                  61.320298\n",
       "Longitude                 61.330423\n",
       "Airport.Code              43.601570\n",
       "Airport.Name              40.708074\n",
       "Injury.Severity            1.124999\n",
       "Aircraft.damage            3.593246\n",
       "Aircraft.Category         63.677170\n",
       "Registration.Number        1.554748\n",
       "Make                       0.070875\n",
       "Model                      0.103500\n",
       "Amateur.Built              0.114750\n",
       "Number.of.Engines          6.844491\n",
       "Engine.Type                7.982990\n",
       "FAR.Description           63.974170\n",
       "Schedule                  85.845268\n",
       "Purpose.of.flight          6.965991\n",
       "Air.carrier               81.271023\n",
       "Total.Fatal.Injuries      12.826109\n",
       "Total.Serious.Injuries    14.073732\n",
       "Total.Minor.Injuries      13.424608\n",
       "Total.Uninjured            6.650992\n",
       "Weather.Condition          5.053494\n",
       "Broad.phase.of.flight     30.560587\n",
       "Report.Status              7.181991\n",
       "Publication.Date          15.492356\n",
       "dtype: float64"
      ]
     },
     "execution_count": 86,
     "metadata": {},
     "output_type": "execute_result"
    }
   ],
   "source": [
    "#Checking what percentage of each column is null\n",
    "df.isnull().sum()/df.shape[0]*100"
   ]
  },
  {
   "cell_type": "markdown",
   "id": "04d535b4",
   "metadata": {},
   "source": [
    "Let's drop all columns with over 30% null or missing data. Here are the columns that have too many nulls values or are irrelevant to the current business question: Latitude, Longitude, Airport Code, Airport Name, Registration Number, FAR Description, Schedule, Air Carrier, and Publication Date."
   ]
  },
  {
   "cell_type": "code",
   "execution_count": 87,
   "id": "5f38667f",
   "metadata": {},
   "outputs": [],
   "source": [
    "#Drop columns with too many missing values or irrevlant to our business question\n",
    "dropped_columns=['Schedule', 'Air.carrier', 'Longitude','Latitude','Registration.Number','Purpose.of.flight','Publication.Date', 'Airport.Code','Airport.Name', 'FAR.Description', 'Broad.phase.of.flight']\n",
    "df=df.drop(dropped_columns, axis=1)"
   ]
  },
  {
   "cell_type": "code",
   "execution_count": 88,
   "id": "5c178ecc",
   "metadata": {},
   "outputs": [
    {
     "data": {
      "text/plain": [
       "Index(['Event.Id', 'Investigation.Type', 'Accident.Number', 'Event.Date',\n",
       "       'Location', 'Country', 'Injury.Severity', 'Aircraft.damage',\n",
       "       'Aircraft.Category', 'Make', 'Model', 'Amateur.Built',\n",
       "       'Number.of.Engines', 'Engine.Type', 'Total.Fatal.Injuries',\n",
       "       'Total.Serious.Injuries', 'Total.Minor.Injuries', 'Total.Uninjured',\n",
       "       'Weather.Condition', 'Report.Status'],\n",
       "      dtype='object')"
      ]
     },
     "execution_count": 88,
     "metadata": {},
     "output_type": "execute_result"
    }
   ],
   "source": [
    "#confirming the columns were dropped\n",
    "df.columns"
   ]
  },
  {
   "cell_type": "code",
   "execution_count": 89,
   "id": "25ab67eb",
   "metadata": {},
   "outputs": [
    {
     "data": {
      "text/html": [
       "<div>\n",
       "<style scoped>\n",
       "    .dataframe tbody tr th:only-of-type {\n",
       "        vertical-align: middle;\n",
       "    }\n",
       "\n",
       "    .dataframe tbody tr th {\n",
       "        vertical-align: top;\n",
       "    }\n",
       "\n",
       "    .dataframe thead th {\n",
       "        text-align: right;\n",
       "    }\n",
       "</style>\n",
       "<table border=\"1\" class=\"dataframe\">\n",
       "  <thead>\n",
       "    <tr style=\"text-align: right;\">\n",
       "      <th></th>\n",
       "      <th>Event.Id</th>\n",
       "      <th>Investigation.Type</th>\n",
       "      <th>Accident.Number</th>\n",
       "      <th>Event.Date</th>\n",
       "      <th>Location</th>\n",
       "      <th>Country</th>\n",
       "      <th>Injury.Severity</th>\n",
       "      <th>Aircraft.damage</th>\n",
       "      <th>Aircraft.Category</th>\n",
       "      <th>Make</th>\n",
       "      <th>Model</th>\n",
       "      <th>Amateur.Built</th>\n",
       "      <th>Number.of.Engines</th>\n",
       "      <th>Engine.Type</th>\n",
       "      <th>Total.Fatal.Injuries</th>\n",
       "      <th>Total.Serious.Injuries</th>\n",
       "      <th>Total.Minor.Injuries</th>\n",
       "      <th>Total.Uninjured</th>\n",
       "      <th>Weather.Condition</th>\n",
       "      <th>Report.Status</th>\n",
       "    </tr>\n",
       "  </thead>\n",
       "  <tbody>\n",
       "    <tr>\n",
       "      <th>0</th>\n",
       "      <td>20001218X45444</td>\n",
       "      <td>Accident</td>\n",
       "      <td>SEA87LA080</td>\n",
       "      <td>1948-10-24</td>\n",
       "      <td>MOOSE CREEK, ID</td>\n",
       "      <td>United States</td>\n",
       "      <td>Fatal</td>\n",
       "      <td>Destroyed</td>\n",
       "      <td>NaN</td>\n",
       "      <td>Stinson</td>\n",
       "      <td>108-3</td>\n",
       "      <td>No</td>\n",
       "      <td>1.0</td>\n",
       "      <td>Reciprocating</td>\n",
       "      <td>2.0</td>\n",
       "      <td>0.0</td>\n",
       "      <td>0.0</td>\n",
       "      <td>0.0</td>\n",
       "      <td>UNK</td>\n",
       "      <td>Probable Cause</td>\n",
       "    </tr>\n",
       "    <tr>\n",
       "      <th>1</th>\n",
       "      <td>20001218X45447</td>\n",
       "      <td>Accident</td>\n",
       "      <td>LAX94LA336</td>\n",
       "      <td>1962-07-19</td>\n",
       "      <td>BRIDGEPORT, CA</td>\n",
       "      <td>United States</td>\n",
       "      <td>Fatal</td>\n",
       "      <td>Destroyed</td>\n",
       "      <td>NaN</td>\n",
       "      <td>Piper</td>\n",
       "      <td>PA24-180</td>\n",
       "      <td>No</td>\n",
       "      <td>1.0</td>\n",
       "      <td>Reciprocating</td>\n",
       "      <td>4.0</td>\n",
       "      <td>0.0</td>\n",
       "      <td>0.0</td>\n",
       "      <td>0.0</td>\n",
       "      <td>UNK</td>\n",
       "      <td>Probable Cause</td>\n",
       "    </tr>\n",
       "    <tr>\n",
       "      <th>2</th>\n",
       "      <td>20061025X01555</td>\n",
       "      <td>Accident</td>\n",
       "      <td>NYC07LA005</td>\n",
       "      <td>1974-08-30</td>\n",
       "      <td>Saltville, VA</td>\n",
       "      <td>United States</td>\n",
       "      <td>Fatal</td>\n",
       "      <td>Destroyed</td>\n",
       "      <td>NaN</td>\n",
       "      <td>Cessna</td>\n",
       "      <td>172M</td>\n",
       "      <td>No</td>\n",
       "      <td>1.0</td>\n",
       "      <td>Reciprocating</td>\n",
       "      <td>3.0</td>\n",
       "      <td>NaN</td>\n",
       "      <td>NaN</td>\n",
       "      <td>NaN</td>\n",
       "      <td>IMC</td>\n",
       "      <td>Probable Cause</td>\n",
       "    </tr>\n",
       "    <tr>\n",
       "      <th>3</th>\n",
       "      <td>20001218X45448</td>\n",
       "      <td>Accident</td>\n",
       "      <td>LAX96LA321</td>\n",
       "      <td>1977-06-19</td>\n",
       "      <td>EUREKA, CA</td>\n",
       "      <td>United States</td>\n",
       "      <td>Fatal</td>\n",
       "      <td>Destroyed</td>\n",
       "      <td>NaN</td>\n",
       "      <td>Rockwell</td>\n",
       "      <td>112</td>\n",
       "      <td>No</td>\n",
       "      <td>1.0</td>\n",
       "      <td>Reciprocating</td>\n",
       "      <td>2.0</td>\n",
       "      <td>0.0</td>\n",
       "      <td>0.0</td>\n",
       "      <td>0.0</td>\n",
       "      <td>IMC</td>\n",
       "      <td>Probable Cause</td>\n",
       "    </tr>\n",
       "    <tr>\n",
       "      <th>4</th>\n",
       "      <td>20041105X01764</td>\n",
       "      <td>Accident</td>\n",
       "      <td>CHI79FA064</td>\n",
       "      <td>1979-08-02</td>\n",
       "      <td>Canton, OH</td>\n",
       "      <td>United States</td>\n",
       "      <td>Fatal</td>\n",
       "      <td>Destroyed</td>\n",
       "      <td>NaN</td>\n",
       "      <td>Cessna</td>\n",
       "      <td>501</td>\n",
       "      <td>No</td>\n",
       "      <td>NaN</td>\n",
       "      <td>NaN</td>\n",
       "      <td>1.0</td>\n",
       "      <td>2.0</td>\n",
       "      <td>NaN</td>\n",
       "      <td>0.0</td>\n",
       "      <td>VMC</td>\n",
       "      <td>Probable Cause</td>\n",
       "    </tr>\n",
       "  </tbody>\n",
       "</table>\n",
       "</div>"
      ],
      "text/plain": [
       "         Event.Id Investigation.Type Accident.Number Event.Date  \\\n",
       "0  20001218X45444           Accident      SEA87LA080 1948-10-24   \n",
       "1  20001218X45447           Accident      LAX94LA336 1962-07-19   \n",
       "2  20061025X01555           Accident      NYC07LA005 1974-08-30   \n",
       "3  20001218X45448           Accident      LAX96LA321 1977-06-19   \n",
       "4  20041105X01764           Accident      CHI79FA064 1979-08-02   \n",
       "\n",
       "          Location        Country Injury.Severity Aircraft.damage  \\\n",
       "0  MOOSE CREEK, ID  United States           Fatal       Destroyed   \n",
       "1   BRIDGEPORT, CA  United States           Fatal       Destroyed   \n",
       "2    Saltville, VA  United States           Fatal       Destroyed   \n",
       "3       EUREKA, CA  United States           Fatal       Destroyed   \n",
       "4       Canton, OH  United States           Fatal       Destroyed   \n",
       "\n",
       "  Aircraft.Category      Make     Model Amateur.Built  Number.of.Engines  \\\n",
       "0               NaN   Stinson     108-3            No                1.0   \n",
       "1               NaN     Piper  PA24-180            No                1.0   \n",
       "2               NaN    Cessna      172M            No                1.0   \n",
       "3               NaN  Rockwell       112            No                1.0   \n",
       "4               NaN    Cessna       501            No                NaN   \n",
       "\n",
       "     Engine.Type  Total.Fatal.Injuries  Total.Serious.Injuries  \\\n",
       "0  Reciprocating                   2.0                     0.0   \n",
       "1  Reciprocating                   4.0                     0.0   \n",
       "2  Reciprocating                   3.0                     NaN   \n",
       "3  Reciprocating                   2.0                     0.0   \n",
       "4            NaN                   1.0                     2.0   \n",
       "\n",
       "   Total.Minor.Injuries  Total.Uninjured Weather.Condition   Report.Status  \n",
       "0                   0.0              0.0               UNK  Probable Cause  \n",
       "1                   0.0              0.0               UNK  Probable Cause  \n",
       "2                   NaN              NaN               IMC  Probable Cause  \n",
       "3                   0.0              0.0               IMC  Probable Cause  \n",
       "4                   NaN              0.0               VMC  Probable Cause  "
      ]
     },
     "execution_count": 89,
     "metadata": {},
     "output_type": "execute_result"
    }
   ],
   "source": [
    "#Clean Injury Severity Column so it does not include the paranthesis since the exact number of injuries is included in the other columns.\n",
    "df['Injury.Severity']=df['Injury.Severity'].str.split('(').str[0]\n",
    "df.head()"
   ]
  },
  {
   "cell_type": "code",
   "execution_count": 90,
   "id": "059a25c6",
   "metadata": {},
   "outputs": [],
   "source": [
    "#Change Unknown, UNK, and Unavailable to Nan.\n",
    "df.replace(['Unknown','UNK','Unavailable'],np.nan, inplace=True)"
   ]
  },
  {
   "cell_type": "code",
   "execution_count": 91,
   "id": "acd8b494",
   "metadata": {},
   "outputs": [
    {
     "data": {
      "text/plain": [
       "Index(['Event.Id', 'Investigation.Type', 'Accident.Number', 'Event.Date',\n",
       "       'Location', 'Country', 'Injury.Severity', 'Aircraft.damage',\n",
       "       'Aircraft.Category', 'Make', 'Model', 'Amateur.Built',\n",
       "       'Number.of.Engines', 'Engine.Type', 'Total.Fatal.Injuries',\n",
       "       'Total.Serious.Injuries', 'Total.Minor.Injuries', 'Total.Uninjured',\n",
       "       'Weather.Condition', 'Report.Status'],\n",
       "      dtype='object')"
      ]
     },
     "execution_count": 91,
     "metadata": {},
     "output_type": "execute_result"
    }
   ],
   "source": [
    "df.columns"
   ]
  },
  {
   "cell_type": "code",
   "execution_count": 92,
   "id": "3cda3d40",
   "metadata": {},
   "outputs": [],
   "source": [
    "#Change column names\n",
    "rename_columns= {'Event.Id':'ID', 'Investigation.Type':'Type', 'Accident.Number':'Accident_Number', 'Event.Date':'Date',\n",
    "    'Injury.Severity':'Injury_Severity', 'Aircraft.Category':'Category','Aircraft.damage':'Damage','Amateur.Built':'Amateur_Built',\n",
    "       'Number.of.Engines':'Engines', 'Engine.Type':'Engine_Type',\n",
    "     'Total.Fatal.Injuries':'Fatal_Injuries', 'Total.Serious.Injuries':'Serious_Injuries',\n",
    "       'Total.Minor.Injuries':'Minor_Injuries', 'Total.Uninjured':'Uninjured', 'Weather.Condition':'Weather',\n",
    "       'Broad.phase.of.flight':'Flight_Phase', 'Report.Status':'Report_Status'}\n",
    "df=df.rename(columns=rename_columns)"
   ]
  },
  {
   "cell_type": "code",
   "execution_count": 93,
   "id": "0ea42756",
   "metadata": {},
   "outputs": [
    {
     "data": {
      "text/plain": [
       "ID                   0.000000\n",
       "Type                 0.000000\n",
       "Accident_Number      0.000000\n",
       "Date                 0.000000\n",
       "Location             0.059625\n",
       "Country              0.257625\n",
       "Injury_Severity      1.232998\n",
       "Damage               3.727120\n",
       "Category            63.695170\n",
       "Make                 0.094500\n",
       "Model                0.108000\n",
       "Amateur_Built        0.114750\n",
       "Engines              6.844491\n",
       "Engine_Type         10.291487\n",
       "Fatal_Injuries      12.826109\n",
       "Serious_Injuries    14.073732\n",
       "Minor_Injuries      13.424608\n",
       "Uninjured            6.650992\n",
       "Weather              6.016492\n",
       "Report_Status        7.181991\n",
       "dtype: float64"
      ]
     },
     "execution_count": 93,
     "metadata": {},
     "output_type": "execute_result"
    }
   ],
   "source": [
    "df.isnull().sum()/df.shape[0]*100"
   ]
  },
  {
   "cell_type": "markdown",
   "id": "c0cfa7d1",
   "metadata": {},
   "source": [
    "Now we'll clean the Country and Location columns. "
   ]
  },
  {
   "cell_type": "code",
   "execution_count": 94,
   "id": "4b31e155",
   "metadata": {},
   "outputs": [
    {
     "data": {
      "text/plain": [
       "Country\n",
       "United States                       0.925289\n",
       "Brazil                              0.004207\n",
       "Canada                              0.004039\n",
       "Mexico                              0.004027\n",
       "United Kingdom                      0.003870\n",
       "                                      ...   \n",
       "Seychelles                          0.000011\n",
       "Palau                               0.000011\n",
       "Libya                               0.000011\n",
       "Saint Vincent and the Grenadines    0.000011\n",
       "Turks and Caicos Islands            0.000011\n",
       "Name: count, Length: 218, dtype: float64"
      ]
     },
     "execution_count": 94,
     "metadata": {},
     "output_type": "execute_result"
    }
   ],
   "source": [
    "#Checking what percentage of values are in each country\n",
    "df['Country'].value_counts()/(len(df['Country']))"
   ]
  },
  {
   "cell_type": "markdown",
   "id": "ca958c42",
   "metadata": {},
   "source": [
    "Almost 93% of these reported accidents occurred in the United States so we will focus our analysis on accidents in the USA. We will drop rows with accidents outside the USA mainland.   "
   ]
  },
  {
   "cell_type": "code",
   "execution_count": 95,
   "id": "8561920c",
   "metadata": {},
   "outputs": [],
   "source": [
    "df.drop(df[df.Country != 'United States'].index, inplace=True)"
   ]
  },
  {
   "cell_type": "code",
   "execution_count": 96,
   "id": "98c5e288",
   "metadata": {},
   "outputs": [
    {
     "data": {
      "text/plain": [
       "Country\n",
       "United States    82248\n",
       "Name: count, dtype: int64"
      ]
     },
     "execution_count": 96,
     "metadata": {},
     "output_type": "execute_result"
    }
   ],
   "source": [
    "df['Country'].value_counts()"
   ]
  },
  {
   "cell_type": "code",
   "execution_count": 97,
   "id": "247035ed",
   "metadata": {},
   "outputs": [],
   "source": [
    "#Split location into into city and state\n",
    "df['City']=df['Location'].str.split(',').str[0]\n",
    "df['State']=df['Location'].str.split(',').str[-1]"
   ]
  },
  {
   "cell_type": "code",
   "execution_count": 98,
   "id": "3ba74f79",
   "metadata": {
    "scrolled": true
   },
   "outputs": [
    {
     "data": {
      "text/html": [
       "<div>\n",
       "<style scoped>\n",
       "    .dataframe tbody tr th:only-of-type {\n",
       "        vertical-align: middle;\n",
       "    }\n",
       "\n",
       "    .dataframe tbody tr th {\n",
       "        vertical-align: top;\n",
       "    }\n",
       "\n",
       "    .dataframe thead th {\n",
       "        text-align: right;\n",
       "    }\n",
       "</style>\n",
       "<table border=\"1\" class=\"dataframe\">\n",
       "  <thead>\n",
       "    <tr style=\"text-align: right;\">\n",
       "      <th></th>\n",
       "      <th>ID</th>\n",
       "      <th>Type</th>\n",
       "      <th>Accident_Number</th>\n",
       "      <th>Date</th>\n",
       "      <th>Country</th>\n",
       "      <th>Injury_Severity</th>\n",
       "      <th>Damage</th>\n",
       "      <th>Category</th>\n",
       "      <th>Make</th>\n",
       "      <th>Model</th>\n",
       "      <th>...</th>\n",
       "      <th>Engines</th>\n",
       "      <th>Engine_Type</th>\n",
       "      <th>Fatal_Injuries</th>\n",
       "      <th>Serious_Injuries</th>\n",
       "      <th>Minor_Injuries</th>\n",
       "      <th>Uninjured</th>\n",
       "      <th>Weather</th>\n",
       "      <th>Report_Status</th>\n",
       "      <th>City</th>\n",
       "      <th>State</th>\n",
       "    </tr>\n",
       "  </thead>\n",
       "  <tbody>\n",
       "    <tr>\n",
       "      <th>0</th>\n",
       "      <td>20001218X45444</td>\n",
       "      <td>Accident</td>\n",
       "      <td>SEA87LA080</td>\n",
       "      <td>1948-10-24</td>\n",
       "      <td>United States</td>\n",
       "      <td>Fatal</td>\n",
       "      <td>Destroyed</td>\n",
       "      <td>NaN</td>\n",
       "      <td>Stinson</td>\n",
       "      <td>108-3</td>\n",
       "      <td>...</td>\n",
       "      <td>1.0</td>\n",
       "      <td>Reciprocating</td>\n",
       "      <td>2.0</td>\n",
       "      <td>0.0</td>\n",
       "      <td>0.0</td>\n",
       "      <td>0.0</td>\n",
       "      <td>NaN</td>\n",
       "      <td>Probable Cause</td>\n",
       "      <td>MOOSE CREEK</td>\n",
       "      <td>ID</td>\n",
       "    </tr>\n",
       "    <tr>\n",
       "      <th>1</th>\n",
       "      <td>20001218X45447</td>\n",
       "      <td>Accident</td>\n",
       "      <td>LAX94LA336</td>\n",
       "      <td>1962-07-19</td>\n",
       "      <td>United States</td>\n",
       "      <td>Fatal</td>\n",
       "      <td>Destroyed</td>\n",
       "      <td>NaN</td>\n",
       "      <td>Piper</td>\n",
       "      <td>PA24-180</td>\n",
       "      <td>...</td>\n",
       "      <td>1.0</td>\n",
       "      <td>Reciprocating</td>\n",
       "      <td>4.0</td>\n",
       "      <td>0.0</td>\n",
       "      <td>0.0</td>\n",
       "      <td>0.0</td>\n",
       "      <td>NaN</td>\n",
       "      <td>Probable Cause</td>\n",
       "      <td>BRIDGEPORT</td>\n",
       "      <td>CA</td>\n",
       "    </tr>\n",
       "    <tr>\n",
       "      <th>2</th>\n",
       "      <td>20061025X01555</td>\n",
       "      <td>Accident</td>\n",
       "      <td>NYC07LA005</td>\n",
       "      <td>1974-08-30</td>\n",
       "      <td>United States</td>\n",
       "      <td>Fatal</td>\n",
       "      <td>Destroyed</td>\n",
       "      <td>NaN</td>\n",
       "      <td>Cessna</td>\n",
       "      <td>172M</td>\n",
       "      <td>...</td>\n",
       "      <td>1.0</td>\n",
       "      <td>Reciprocating</td>\n",
       "      <td>3.0</td>\n",
       "      <td>NaN</td>\n",
       "      <td>NaN</td>\n",
       "      <td>NaN</td>\n",
       "      <td>IMC</td>\n",
       "      <td>Probable Cause</td>\n",
       "      <td>Saltville</td>\n",
       "      <td>VA</td>\n",
       "    </tr>\n",
       "    <tr>\n",
       "      <th>3</th>\n",
       "      <td>20001218X45448</td>\n",
       "      <td>Accident</td>\n",
       "      <td>LAX96LA321</td>\n",
       "      <td>1977-06-19</td>\n",
       "      <td>United States</td>\n",
       "      <td>Fatal</td>\n",
       "      <td>Destroyed</td>\n",
       "      <td>NaN</td>\n",
       "      <td>Rockwell</td>\n",
       "      <td>112</td>\n",
       "      <td>...</td>\n",
       "      <td>1.0</td>\n",
       "      <td>Reciprocating</td>\n",
       "      <td>2.0</td>\n",
       "      <td>0.0</td>\n",
       "      <td>0.0</td>\n",
       "      <td>0.0</td>\n",
       "      <td>IMC</td>\n",
       "      <td>Probable Cause</td>\n",
       "      <td>EUREKA</td>\n",
       "      <td>CA</td>\n",
       "    </tr>\n",
       "    <tr>\n",
       "      <th>4</th>\n",
       "      <td>20041105X01764</td>\n",
       "      <td>Accident</td>\n",
       "      <td>CHI79FA064</td>\n",
       "      <td>1979-08-02</td>\n",
       "      <td>United States</td>\n",
       "      <td>Fatal</td>\n",
       "      <td>Destroyed</td>\n",
       "      <td>NaN</td>\n",
       "      <td>Cessna</td>\n",
       "      <td>501</td>\n",
       "      <td>...</td>\n",
       "      <td>NaN</td>\n",
       "      <td>NaN</td>\n",
       "      <td>1.0</td>\n",
       "      <td>2.0</td>\n",
       "      <td>NaN</td>\n",
       "      <td>0.0</td>\n",
       "      <td>VMC</td>\n",
       "      <td>Probable Cause</td>\n",
       "      <td>Canton</td>\n",
       "      <td>OH</td>\n",
       "    </tr>\n",
       "  </tbody>\n",
       "</table>\n",
       "<p>5 rows × 21 columns</p>\n",
       "</div>"
      ],
      "text/plain": [
       "               ID      Type Accident_Number       Date        Country  \\\n",
       "0  20001218X45444  Accident      SEA87LA080 1948-10-24  United States   \n",
       "1  20001218X45447  Accident      LAX94LA336 1962-07-19  United States   \n",
       "2  20061025X01555  Accident      NYC07LA005 1974-08-30  United States   \n",
       "3  20001218X45448  Accident      LAX96LA321 1977-06-19  United States   \n",
       "4  20041105X01764  Accident      CHI79FA064 1979-08-02  United States   \n",
       "\n",
       "  Injury_Severity     Damage Category      Make     Model  ... Engines  \\\n",
       "0           Fatal  Destroyed      NaN   Stinson     108-3  ...     1.0   \n",
       "1           Fatal  Destroyed      NaN     Piper  PA24-180  ...     1.0   \n",
       "2           Fatal  Destroyed      NaN    Cessna      172M  ...     1.0   \n",
       "3           Fatal  Destroyed      NaN  Rockwell       112  ...     1.0   \n",
       "4           Fatal  Destroyed      NaN    Cessna       501  ...     NaN   \n",
       "\n",
       "     Engine_Type Fatal_Injuries  Serious_Injuries  Minor_Injuries  Uninjured  \\\n",
       "0  Reciprocating            2.0               0.0             0.0        0.0   \n",
       "1  Reciprocating            4.0               0.0             0.0        0.0   \n",
       "2  Reciprocating            3.0               NaN             NaN        NaN   \n",
       "3  Reciprocating            2.0               0.0             0.0        0.0   \n",
       "4            NaN            1.0               2.0             NaN        0.0   \n",
       "\n",
       "   Weather   Report_Status         City State  \n",
       "0      NaN  Probable Cause  MOOSE CREEK    ID  \n",
       "1      NaN  Probable Cause   BRIDGEPORT    CA  \n",
       "2      IMC  Probable Cause    Saltville    VA  \n",
       "3      IMC  Probable Cause       EUREKA    CA  \n",
       "4      VMC  Probable Cause       Canton    OH  \n",
       "\n",
       "[5 rows x 21 columns]"
      ]
     },
     "execution_count": 98,
     "metadata": {},
     "output_type": "execute_result"
    }
   ],
   "source": [
    "#Drop Location column\n",
    "df=df.drop('Location',axis=1)\n",
    "df.head()"
   ]
  },
  {
   "cell_type": "code",
   "execution_count": 99,
   "id": "d04af6af",
   "metadata": {},
   "outputs": [
    {
     "data": {
      "text/html": [
       "<div>\n",
       "<style scoped>\n",
       "    .dataframe tbody tr th:only-of-type {\n",
       "        vertical-align: middle;\n",
       "    }\n",
       "\n",
       "    .dataframe tbody tr th {\n",
       "        vertical-align: top;\n",
       "    }\n",
       "\n",
       "    .dataframe thead th {\n",
       "        text-align: right;\n",
       "    }\n",
       "</style>\n",
       "<table border=\"1\" class=\"dataframe\">\n",
       "  <thead>\n",
       "    <tr style=\"text-align: right;\">\n",
       "      <th></th>\n",
       "      <th>ID</th>\n",
       "      <th>Type</th>\n",
       "      <th>Accident_Number</th>\n",
       "      <th>Date</th>\n",
       "      <th>Country</th>\n",
       "      <th>Injury_Severity</th>\n",
       "      <th>Damage</th>\n",
       "      <th>Category</th>\n",
       "      <th>Make</th>\n",
       "      <th>Model</th>\n",
       "      <th>...</th>\n",
       "      <th>Engines</th>\n",
       "      <th>Engine_Type</th>\n",
       "      <th>Fatal_Injuries</th>\n",
       "      <th>Serious_Injuries</th>\n",
       "      <th>Minor_Injuries</th>\n",
       "      <th>Uninjured</th>\n",
       "      <th>Weather</th>\n",
       "      <th>Report_Status</th>\n",
       "      <th>City</th>\n",
       "      <th>State</th>\n",
       "    </tr>\n",
       "  </thead>\n",
       "  <tbody>\n",
       "    <tr>\n",
       "      <th>0</th>\n",
       "      <td>20001218X45444</td>\n",
       "      <td>Accident</td>\n",
       "      <td>SEA87LA080</td>\n",
       "      <td>1948-10-24</td>\n",
       "      <td>United States</td>\n",
       "      <td>Fatal</td>\n",
       "      <td>Destroyed</td>\n",
       "      <td>NaN</td>\n",
       "      <td>Stinson</td>\n",
       "      <td>108-3</td>\n",
       "      <td>...</td>\n",
       "      <td>1.0</td>\n",
       "      <td>Reciprocating</td>\n",
       "      <td>2.0</td>\n",
       "      <td>0.0</td>\n",
       "      <td>0.0</td>\n",
       "      <td>0.0</td>\n",
       "      <td>NaN</td>\n",
       "      <td>Probable Cause</td>\n",
       "      <td>Moose Creek</td>\n",
       "      <td>ID</td>\n",
       "    </tr>\n",
       "    <tr>\n",
       "      <th>1</th>\n",
       "      <td>20001218X45447</td>\n",
       "      <td>Accident</td>\n",
       "      <td>LAX94LA336</td>\n",
       "      <td>1962-07-19</td>\n",
       "      <td>United States</td>\n",
       "      <td>Fatal</td>\n",
       "      <td>Destroyed</td>\n",
       "      <td>NaN</td>\n",
       "      <td>Piper</td>\n",
       "      <td>PA24-180</td>\n",
       "      <td>...</td>\n",
       "      <td>1.0</td>\n",
       "      <td>Reciprocating</td>\n",
       "      <td>4.0</td>\n",
       "      <td>0.0</td>\n",
       "      <td>0.0</td>\n",
       "      <td>0.0</td>\n",
       "      <td>NaN</td>\n",
       "      <td>Probable Cause</td>\n",
       "      <td>Bridgeport</td>\n",
       "      <td>CA</td>\n",
       "    </tr>\n",
       "    <tr>\n",
       "      <th>2</th>\n",
       "      <td>20061025X01555</td>\n",
       "      <td>Accident</td>\n",
       "      <td>NYC07LA005</td>\n",
       "      <td>1974-08-30</td>\n",
       "      <td>United States</td>\n",
       "      <td>Fatal</td>\n",
       "      <td>Destroyed</td>\n",
       "      <td>NaN</td>\n",
       "      <td>Cessna</td>\n",
       "      <td>172M</td>\n",
       "      <td>...</td>\n",
       "      <td>1.0</td>\n",
       "      <td>Reciprocating</td>\n",
       "      <td>3.0</td>\n",
       "      <td>NaN</td>\n",
       "      <td>NaN</td>\n",
       "      <td>NaN</td>\n",
       "      <td>IMC</td>\n",
       "      <td>Probable Cause</td>\n",
       "      <td>Saltville</td>\n",
       "      <td>VA</td>\n",
       "    </tr>\n",
       "    <tr>\n",
       "      <th>3</th>\n",
       "      <td>20001218X45448</td>\n",
       "      <td>Accident</td>\n",
       "      <td>LAX96LA321</td>\n",
       "      <td>1977-06-19</td>\n",
       "      <td>United States</td>\n",
       "      <td>Fatal</td>\n",
       "      <td>Destroyed</td>\n",
       "      <td>NaN</td>\n",
       "      <td>Rockwell</td>\n",
       "      <td>112</td>\n",
       "      <td>...</td>\n",
       "      <td>1.0</td>\n",
       "      <td>Reciprocating</td>\n",
       "      <td>2.0</td>\n",
       "      <td>0.0</td>\n",
       "      <td>0.0</td>\n",
       "      <td>0.0</td>\n",
       "      <td>IMC</td>\n",
       "      <td>Probable Cause</td>\n",
       "      <td>Eureka</td>\n",
       "      <td>CA</td>\n",
       "    </tr>\n",
       "    <tr>\n",
       "      <th>4</th>\n",
       "      <td>20041105X01764</td>\n",
       "      <td>Accident</td>\n",
       "      <td>CHI79FA064</td>\n",
       "      <td>1979-08-02</td>\n",
       "      <td>United States</td>\n",
       "      <td>Fatal</td>\n",
       "      <td>Destroyed</td>\n",
       "      <td>NaN</td>\n",
       "      <td>Cessna</td>\n",
       "      <td>501</td>\n",
       "      <td>...</td>\n",
       "      <td>NaN</td>\n",
       "      <td>NaN</td>\n",
       "      <td>1.0</td>\n",
       "      <td>2.0</td>\n",
       "      <td>NaN</td>\n",
       "      <td>0.0</td>\n",
       "      <td>VMC</td>\n",
       "      <td>Probable Cause</td>\n",
       "      <td>Canton</td>\n",
       "      <td>OH</td>\n",
       "    </tr>\n",
       "  </tbody>\n",
       "</table>\n",
       "<p>5 rows × 21 columns</p>\n",
       "</div>"
      ],
      "text/plain": [
       "               ID      Type Accident_Number       Date        Country  \\\n",
       "0  20001218X45444  Accident      SEA87LA080 1948-10-24  United States   \n",
       "1  20001218X45447  Accident      LAX94LA336 1962-07-19  United States   \n",
       "2  20061025X01555  Accident      NYC07LA005 1974-08-30  United States   \n",
       "3  20001218X45448  Accident      LAX96LA321 1977-06-19  United States   \n",
       "4  20041105X01764  Accident      CHI79FA064 1979-08-02  United States   \n",
       "\n",
       "  Injury_Severity     Damage Category      Make     Model  ... Engines  \\\n",
       "0           Fatal  Destroyed      NaN   Stinson     108-3  ...     1.0   \n",
       "1           Fatal  Destroyed      NaN     Piper  PA24-180  ...     1.0   \n",
       "2           Fatal  Destroyed      NaN    Cessna      172M  ...     1.0   \n",
       "3           Fatal  Destroyed      NaN  Rockwell       112  ...     1.0   \n",
       "4           Fatal  Destroyed      NaN    Cessna       501  ...     NaN   \n",
       "\n",
       "     Engine_Type Fatal_Injuries  Serious_Injuries  Minor_Injuries  Uninjured  \\\n",
       "0  Reciprocating            2.0               0.0             0.0        0.0   \n",
       "1  Reciprocating            4.0               0.0             0.0        0.0   \n",
       "2  Reciprocating            3.0               NaN             NaN        NaN   \n",
       "3  Reciprocating            2.0               0.0             0.0        0.0   \n",
       "4            NaN            1.0               2.0             NaN        0.0   \n",
       "\n",
       "   Weather   Report_Status         City State  \n",
       "0      NaN  Probable Cause  Moose Creek    ID  \n",
       "1      NaN  Probable Cause   Bridgeport    CA  \n",
       "2      IMC  Probable Cause    Saltville    VA  \n",
       "3      IMC  Probable Cause       Eureka    CA  \n",
       "4      VMC  Probable Cause       Canton    OH  \n",
       "\n",
       "[5 rows x 21 columns]"
      ]
     },
     "execution_count": 99,
     "metadata": {},
     "output_type": "execute_result"
    }
   ],
   "source": [
    "#Standardize data from all caps\n",
    "df['Make']=df['Make'].str.title()\n",
    "df['City']=df['City'].str.title()\n",
    "df.head()"
   ]
  },
  {
   "cell_type": "code",
   "execution_count": 100,
   "id": "5c225d7f",
   "metadata": {},
   "outputs": [
    {
     "data": {
      "text/plain": [
       "Make\n",
       "True     74843\n",
       "False     7405\n",
       "Name: count, dtype: int64"
      ]
     },
     "execution_count": 100,
     "metadata": {},
     "output_type": "execute_result"
    }
   ],
   "source": [
    "# Clean 'Make' Column. Remove spaces.\n",
    "df['Make'].str.strip()\n",
    "df['Make'].duplicated().value_counts()"
   ]
  },
  {
   "cell_type": "markdown",
   "id": "1ea8bdf0",
   "metadata": {},
   "source": [
    "Why are some values showing up multiple times? For example Piper and Cessena."
   ]
  },
  {
   "cell_type": "code",
   "execution_count": 101,
   "id": "2a1f503e",
   "metadata": {},
   "outputs": [
    {
     "data": {
      "text/plain": [
       "Model\n",
       "152               2323\n",
       "172               1637\n",
       "172N              1136\n",
       "PA-28-140          910\n",
       "150                790\n",
       "                  ... \n",
       "2180A                1\n",
       "B206-BIII            1\n",
       "THORP T18CWS         1\n",
       "AVRO 146-RJ70A       1\n",
       "PA42                 1\n",
       "Name: count, Length: 11441, dtype: int64"
      ]
     },
     "execution_count": 101,
     "metadata": {},
     "output_type": "execute_result"
    }
   ],
   "source": [
    "#seperate models from aircraft type\n",
    "df['Model'].value_counts()"
   ]
  },
  {
   "cell_type": "code",
   "execution_count": 102,
   "id": "bc0ee5f0",
   "metadata": {},
   "outputs": [
    {
     "data": {
      "text/plain": [
       "Make\n",
       "Cessna                   25853\n",
       "Piper                    14168\n",
       "Beech                     5059\n",
       "Bell                      2285\n",
       "Boeing                    1485\n",
       "                         ...  \n",
       "Arthur P. Matthews           1\n",
       "Tolle                        1\n",
       "Harwell/Gardner              1\n",
       "Galaxy Balloons, Inc.        1\n",
       "Royse Ralph L                1\n",
       "Name: count, Length: 7404, dtype: int64"
      ]
     },
     "execution_count": 102,
     "metadata": {},
     "output_type": "execute_result"
    }
   ],
   "source": [
    "df.Make.value_counts()"
   ]
  },
  {
   "cell_type": "code",
   "execution_count": 103,
   "id": "a0c8233c",
   "metadata": {
    "scrolled": true
   },
   "outputs": [
    {
     "data": {
      "text/html": [
       "<div>\n",
       "<style scoped>\n",
       "    .dataframe tbody tr th:only-of-type {\n",
       "        vertical-align: middle;\n",
       "    }\n",
       "\n",
       "    .dataframe tbody tr th {\n",
       "        vertical-align: top;\n",
       "    }\n",
       "\n",
       "    .dataframe thead th {\n",
       "        text-align: right;\n",
       "    }\n",
       "</style>\n",
       "<table border=\"1\" class=\"dataframe\">\n",
       "  <thead>\n",
       "    <tr style=\"text-align: right;\">\n",
       "      <th></th>\n",
       "      <th>ID</th>\n",
       "      <th>Type</th>\n",
       "      <th>Accident_Number</th>\n",
       "      <th>Date</th>\n",
       "      <th>Country</th>\n",
       "      <th>Injury_Severity</th>\n",
       "      <th>Damage</th>\n",
       "      <th>Category</th>\n",
       "      <th>Make</th>\n",
       "      <th>Model</th>\n",
       "      <th>...</th>\n",
       "      <th>Engines</th>\n",
       "      <th>Engine_Type</th>\n",
       "      <th>Fatal_Injuries</th>\n",
       "      <th>Serious_Injuries</th>\n",
       "      <th>Minor_Injuries</th>\n",
       "      <th>Uninjured</th>\n",
       "      <th>Weather</th>\n",
       "      <th>Report_Status</th>\n",
       "      <th>City</th>\n",
       "      <th>State</th>\n",
       "    </tr>\n",
       "  </thead>\n",
       "  <tbody>\n",
       "    <tr>\n",
       "      <th>0</th>\n",
       "      <td>20001218X45444</td>\n",
       "      <td>Accident</td>\n",
       "      <td>SEA87LA080</td>\n",
       "      <td>1948-10-24</td>\n",
       "      <td>United States</td>\n",
       "      <td>Fatal</td>\n",
       "      <td>Destroyed</td>\n",
       "      <td>NaN</td>\n",
       "      <td>Stinson</td>\n",
       "      <td>108-3</td>\n",
       "      <td>...</td>\n",
       "      <td>1.0</td>\n",
       "      <td>Reciprocating</td>\n",
       "      <td>2.0</td>\n",
       "      <td>0.0</td>\n",
       "      <td>0.0</td>\n",
       "      <td>0.0</td>\n",
       "      <td>NaN</td>\n",
       "      <td>Probable Cause</td>\n",
       "      <td>Moose Creek</td>\n",
       "      <td>ID</td>\n",
       "    </tr>\n",
       "    <tr>\n",
       "      <th>1</th>\n",
       "      <td>20001218X45447</td>\n",
       "      <td>Accident</td>\n",
       "      <td>LAX94LA336</td>\n",
       "      <td>1962-07-19</td>\n",
       "      <td>United States</td>\n",
       "      <td>Fatal</td>\n",
       "      <td>Destroyed</td>\n",
       "      <td>NaN</td>\n",
       "      <td>Piper</td>\n",
       "      <td>PA24-180</td>\n",
       "      <td>...</td>\n",
       "      <td>1.0</td>\n",
       "      <td>Reciprocating</td>\n",
       "      <td>4.0</td>\n",
       "      <td>0.0</td>\n",
       "      <td>0.0</td>\n",
       "      <td>0.0</td>\n",
       "      <td>NaN</td>\n",
       "      <td>Probable Cause</td>\n",
       "      <td>Bridgeport</td>\n",
       "      <td>CA</td>\n",
       "    </tr>\n",
       "    <tr>\n",
       "      <th>2</th>\n",
       "      <td>20061025X01555</td>\n",
       "      <td>Accident</td>\n",
       "      <td>NYC07LA005</td>\n",
       "      <td>1974-08-30</td>\n",
       "      <td>United States</td>\n",
       "      <td>Fatal</td>\n",
       "      <td>Destroyed</td>\n",
       "      <td>NaN</td>\n",
       "      <td>Cessna</td>\n",
       "      <td>172M</td>\n",
       "      <td>...</td>\n",
       "      <td>1.0</td>\n",
       "      <td>Reciprocating</td>\n",
       "      <td>3.0</td>\n",
       "      <td>NaN</td>\n",
       "      <td>NaN</td>\n",
       "      <td>NaN</td>\n",
       "      <td>IMC</td>\n",
       "      <td>Probable Cause</td>\n",
       "      <td>Saltville</td>\n",
       "      <td>VA</td>\n",
       "    </tr>\n",
       "    <tr>\n",
       "      <th>3</th>\n",
       "      <td>20001218X45448</td>\n",
       "      <td>Accident</td>\n",
       "      <td>LAX96LA321</td>\n",
       "      <td>1977-06-19</td>\n",
       "      <td>United States</td>\n",
       "      <td>Fatal</td>\n",
       "      <td>Destroyed</td>\n",
       "      <td>NaN</td>\n",
       "      <td>Rockwell</td>\n",
       "      <td>112</td>\n",
       "      <td>...</td>\n",
       "      <td>1.0</td>\n",
       "      <td>Reciprocating</td>\n",
       "      <td>2.0</td>\n",
       "      <td>0.0</td>\n",
       "      <td>0.0</td>\n",
       "      <td>0.0</td>\n",
       "      <td>IMC</td>\n",
       "      <td>Probable Cause</td>\n",
       "      <td>Eureka</td>\n",
       "      <td>CA</td>\n",
       "    </tr>\n",
       "    <tr>\n",
       "      <th>4</th>\n",
       "      <td>20041105X01764</td>\n",
       "      <td>Accident</td>\n",
       "      <td>CHI79FA064</td>\n",
       "      <td>1979-08-02</td>\n",
       "      <td>United States</td>\n",
       "      <td>Fatal</td>\n",
       "      <td>Destroyed</td>\n",
       "      <td>NaN</td>\n",
       "      <td>Cessna</td>\n",
       "      <td>501</td>\n",
       "      <td>...</td>\n",
       "      <td>NaN</td>\n",
       "      <td>NaN</td>\n",
       "      <td>1.0</td>\n",
       "      <td>2.0</td>\n",
       "      <td>NaN</td>\n",
       "      <td>0.0</td>\n",
       "      <td>VMC</td>\n",
       "      <td>Probable Cause</td>\n",
       "      <td>Canton</td>\n",
       "      <td>OH</td>\n",
       "    </tr>\n",
       "  </tbody>\n",
       "</table>\n",
       "<p>5 rows × 21 columns</p>\n",
       "</div>"
      ],
      "text/plain": [
       "               ID      Type Accident_Number       Date        Country  \\\n",
       "0  20001218X45444  Accident      SEA87LA080 1948-10-24  United States   \n",
       "1  20001218X45447  Accident      LAX94LA336 1962-07-19  United States   \n",
       "2  20061025X01555  Accident      NYC07LA005 1974-08-30  United States   \n",
       "3  20001218X45448  Accident      LAX96LA321 1977-06-19  United States   \n",
       "4  20041105X01764  Accident      CHI79FA064 1979-08-02  United States   \n",
       "\n",
       "  Injury_Severity     Damage Category      Make     Model  ... Engines  \\\n",
       "0           Fatal  Destroyed      NaN   Stinson     108-3  ...     1.0   \n",
       "1           Fatal  Destroyed      NaN     Piper  PA24-180  ...     1.0   \n",
       "2           Fatal  Destroyed      NaN    Cessna      172M  ...     1.0   \n",
       "3           Fatal  Destroyed      NaN  Rockwell       112  ...     1.0   \n",
       "4           Fatal  Destroyed      NaN    Cessna       501  ...     NaN   \n",
       "\n",
       "     Engine_Type Fatal_Injuries  Serious_Injuries  Minor_Injuries  Uninjured  \\\n",
       "0  Reciprocating            2.0               0.0             0.0        0.0   \n",
       "1  Reciprocating            4.0               0.0             0.0        0.0   \n",
       "2  Reciprocating            3.0               NaN             NaN        NaN   \n",
       "3  Reciprocating            2.0               0.0             0.0        0.0   \n",
       "4            NaN            1.0               2.0             NaN        0.0   \n",
       "\n",
       "   Weather   Report_Status         City State  \n",
       "0      NaN  Probable Cause  Moose Creek    ID  \n",
       "1      NaN  Probable Cause   Bridgeport    CA  \n",
       "2      IMC  Probable Cause    Saltville    VA  \n",
       "3      IMC  Probable Cause       Eureka    CA  \n",
       "4      VMC  Probable Cause       Canton    OH  \n",
       "\n",
       "[5 rows x 21 columns]"
      ]
     },
     "execution_count": 103,
     "metadata": {},
     "output_type": "execute_result"
    }
   ],
   "source": [
    "df.head()"
   ]
  },
  {
   "cell_type": "code",
   "execution_count": 104,
   "id": "e2d6abb6",
   "metadata": {},
   "outputs": [
    {
     "data": {
      "text/plain": [
       "Model\n",
       "152           2323\n",
       "172           1637\n",
       "172N          1136\n",
       "PA-28-140      910\n",
       "150            790\n",
       "172M           773\n",
       "172P           680\n",
       "180            617\n",
       "182            589\n",
       "PA-18-150      578\n",
       "PA-18          578\n",
       "150M           578\n",
       "PA-28-180      567\n",
       "PA-28-161      556\n",
       "PA-28-181      516\n",
       "206B           462\n",
       "PA-38-112      460\n",
       "G-164A         460\n",
       "150L           452\n",
       "A36            434\n",
       "G-164B         416\n",
       "140            400\n",
       "170B           387\n",
       "172S           368\n",
       "PA-24-250      348\n",
       "182P           347\n",
       "PA-32-300      339\n",
       "PA-28R-200     327\n",
       "PA-12          323\n",
       "269C           320\n",
       "A188B          307\n",
       "7AC            295\n",
       "177            289\n",
       "206            283\n",
       "PA-22-150      280\n",
       "185            278\n",
       "A185F          277\n",
       "7GCBC          277\n",
       "M20J           277\n",
       "7ECA           267\n",
       "182Q           262\n",
       "150F           262\n",
       "PA-23-250      259\n",
       "PA-31-350      251\n",
       "PA-25-235      251\n",
       "150H           243\n",
       "SR22           240\n",
       "150G           240\n",
       "172RG          237\n",
       "T210N          235\n",
       "Name: count, dtype: int64"
      ]
     },
     "execution_count": 104,
     "metadata": {},
     "output_type": "execute_result"
    }
   ],
   "source": [
    "#Cleaning Model Column. Start by looking at top 50 values\n",
    "df.Model.value_counts().head(50)"
   ]
  },
  {
   "cell_type": "markdown",
   "id": "7cc71b6e",
   "metadata": {},
   "source": [
    "Many models start with the same number like 172, 150, 206, and 182 are followed by other letters. Let's group some of the more commonly occuring numbers in case we want to use this for future analysis."
   ]
  },
  {
   "cell_type": "code",
   "execution_count": 105,
   "id": "8edcf035",
   "metadata": {},
   "outputs": [],
   "source": [
    "#Create simplified model column\n",
    "df['Model_Simplified']=df['Model'].str.slice(0,3)"
   ]
  },
  {
   "cell_type": "markdown",
   "id": "55277c8f",
   "metadata": {},
   "source": [
    "Let's also create a combined Make and Model column for future analysis."
   ]
  },
  {
   "cell_type": "code",
   "execution_count": 106,
   "id": "8e08d531",
   "metadata": {},
   "outputs": [],
   "source": [
    "#Create combined make model column\n",
    "df['Make_Model']=df['Make']+'-'+df['Model']"
   ]
  },
  {
   "cell_type": "markdown",
   "id": "ff7192d0",
   "metadata": {},
   "source": [
    "### Limiting Data for Better Comparison\n",
    "We are still left needing a way to compare \"like\" with \"like\". To make the safety data points more comprable, we will limit this analysis to airplane with fewer than 20 passengers."
   ]
  },
  {
   "cell_type": "code",
   "execution_count": 107,
   "id": "6b198687",
   "metadata": {},
   "outputs": [
    {
     "name": "stdout",
     "output_type": "stream",
     "text": [
      "<class 'pandas.core.frame.DataFrame'>\n",
      "Index: 82248 entries, 0 to 88888\n",
      "Data columns (total 23 columns):\n",
      " #   Column            Non-Null Count  Dtype         \n",
      "---  ------            --------------  -----         \n",
      " 0   ID                82248 non-null  object        \n",
      " 1   Type              82248 non-null  object        \n",
      " 2   Accident_Number   82248 non-null  object        \n",
      " 3   Date              82248 non-null  datetime64[ns]\n",
      " 4   Country           82248 non-null  object        \n",
      " 5   Injury_Severity   82125 non-null  object        \n",
      " 6   Damage            80219 non-null  object        \n",
      " 7   Category          28150 non-null  object        \n",
      " 8   Make              82206 non-null  object        \n",
      " 9   Model             82206 non-null  object        \n",
      " 10  Amateur_Built     82227 non-null  object        \n",
      " 11  Engines           80373 non-null  float64       \n",
      " 12  Engine_Type       77820 non-null  object        \n",
      " 13  Fatal_Injuries    71594 non-null  float64       \n",
      " 14  Serious_Injuries  70873 non-null  float64       \n",
      " 15  Minor_Injuries    71519 non-null  float64       \n",
      " 16  Uninjured         77243 non-null  float64       \n",
      " 17  Weather           81056 non-null  object        \n",
      " 18  Report_Status     79637 non-null  object        \n",
      " 19  City              82237 non-null  object        \n",
      " 20  State             82237 non-null  object        \n",
      " 21  Model_Simplified  82206 non-null  object        \n",
      " 22  Make_Model        82174 non-null  object        \n",
      "dtypes: datetime64[ns](1), float64(5), object(17)\n",
      "memory usage: 15.1+ MB\n"
     ]
    }
   ],
   "source": [
    "df.info()"
   ]
  },
  {
   "cell_type": "code",
   "execution_count": 108,
   "id": "3e8a4d29",
   "metadata": {},
   "outputs": [],
   "source": [
    "#Create column for total passengers on board.\n",
    "df['Total_Passengers']=df['Fatal_Injuries']+df['Serious_Injuries']+df['Minor_Injuries']+df['Uninjured']"
   ]
  },
  {
   "cell_type": "code",
   "execution_count": 109,
   "id": "41319e63",
   "metadata": {},
   "outputs": [],
   "source": [
    "#Limit dataset to airplanes with fewer than 20 passengers\n",
    "df=df[(df['Total_Passengers']<=20) & (df['Category']=='Airplane')]"
   ]
  },
  {
   "cell_type": "code",
   "execution_count": 110,
   "id": "0fe32212",
   "metadata": {},
   "outputs": [],
   "source": [
    "#Removing amateur built planes\n",
    "df=df[(df['Amateur_Built']=='No')]"
   ]
  },
  {
   "cell_type": "markdown",
   "id": "9ed6c5a6",
   "metadata": {},
   "source": [
    "### Dates"
   ]
  },
  {
   "cell_type": "code",
   "execution_count": 111,
   "id": "71650b67",
   "metadata": {},
   "outputs": [
    {
     "data": {
      "text/plain": [
       "Text(0.5, 1.0, 'Investigations by Date')"
      ]
     },
     "execution_count": 111,
     "metadata": {},
     "output_type": "execute_result"
    },
    {
     "data": {
      "image/png": "[encoded data removed]",
      "text/plain": [
       "<Figure size 1600x900 with 1 Axes>"
      ]
     },
     "metadata": {},
     "output_type": "display_data"
    }
   ],
   "source": [
    "#Fatal Injuries by Year\n",
    "fig,ax=plt.subplots(figsize=(16,9))\n",
    "ax.plot(df['Date'], df['Fatal_Injuries'])\n",
    "ax.set_xlabel('Date')\n",
    "ax.set_ylabel('Fatalities')\n",
    "ax.set_title('Investigations by Date')"
   ]
  },
  {
   "cell_type": "code",
   "execution_count": 112,
   "id": "340ec996",
   "metadata": {},
   "outputs": [
    {
     "data": {
      "text/plain": [
       "Text(0, 0.5, 'Number of Fatalities')"
      ]
     },
     "execution_count": 112,
     "metadata": {},
     "output_type": "execute_result"
    },
    {
     "data": {
      "image/png": "[encoded data removed]",
      "text/plain": [
       "<Figure size 640x480 with 1 Axes>"
      ]
     },
     "metadata": {},
     "output_type": "display_data"
    }
   ],
   "source": [
    "df_year=df.groupby(df['Date'].dt.year)['Fatal_Injuries'].sum()\n",
    "df_year.head()\n",
    "\n",
    "plt.plot(df_year)\n",
    "plt.title('Fatalities by Year')\n",
    "plt.xlabel('Year')\n",
    "plt.ylabel('Number of Fatalities')"
   ]
  },
  {
   "cell_type": "code",
   "execution_count": 113,
   "id": "0ab0c1ca",
   "metadata": {},
   "outputs": [],
   "source": [
    "#Limited dataset to only be 2000 onward\n",
    "df=df[(df['Date'].dt.year>=2000)]"
   ]
  },
  {
   "cell_type": "markdown",
   "id": "b3963727",
   "metadata": {},
   "source": [
    "### Final Cleaning to eliminate null values\n"
   ]
  },
  {
   "cell_type": "code",
   "execution_count": 114,
   "id": "eae28d65",
   "metadata": {},
   "outputs": [
    {
     "name": "stdout",
     "output_type": "stream",
     "text": [
      "<class 'pandas.core.frame.DataFrame'>\n",
      "Index: 14967 entries, 50682 to 88886\n",
      "Data columns (total 24 columns):\n",
      " #   Column            Non-Null Count  Dtype         \n",
      "---  ------            --------------  -----         \n",
      " 0   ID                14967 non-null  object        \n",
      " 1   Type              14967 non-null  object        \n",
      " 2   Accident_Number   14967 non-null  object        \n",
      " 3   Date              14967 non-null  datetime64[ns]\n",
      " 4   Country           14967 non-null  object        \n",
      " 5   Injury_Severity   14886 non-null  object        \n",
      " 6   Damage            14761 non-null  object        \n",
      " 7   Category          14967 non-null  object        \n",
      " 8   Make              14966 non-null  object        \n",
      " 9   Model             14967 non-null  object        \n",
      " 10  Amateur_Built     14967 non-null  object        \n",
      " 11  Engines           14525 non-null  float64       \n",
      " 12  Engine_Type       13405 non-null  object        \n",
      " 13  Fatal_Injuries    14967 non-null  float64       \n",
      " 14  Serious_Injuries  14967 non-null  float64       \n",
      " 15  Minor_Injuries    14967 non-null  float64       \n",
      " 16  Uninjured         14967 non-null  float64       \n",
      " 17  Weather           14604 non-null  object        \n",
      " 18  Report_Status     13108 non-null  object        \n",
      " 19  City              14967 non-null  object        \n",
      " 20  State             14967 non-null  object        \n",
      " 21  Model_Simplified  14967 non-null  object        \n",
      " 22  Make_Model        14966 non-null  object        \n",
      " 23  Total_Passengers  14967 non-null  float64       \n",
      "dtypes: datetime64[ns](1), float64(6), object(17)\n",
      "memory usage: 2.9+ MB\n"
     ]
    }
   ],
   "source": [
    "df.info()"
   ]
  },
  {
   "cell_type": "code",
   "execution_count": 115,
   "id": "2f859a50",
   "metadata": {},
   "outputs": [
    {
     "name": "stdout",
     "output_type": "stream",
     "text": [
      "ID                   0.000000\n",
      "Type                 0.000000\n",
      "Accident_Number      0.000000\n",
      "Date                 0.000000\n",
      "Country              0.000000\n",
      "Injury_Severity      0.541191\n",
      "Damage               1.376361\n",
      "Category             0.000000\n",
      "Make                 0.006681\n",
      "Model                0.000000\n",
      "Amateur_Built        0.000000\n",
      "Engines              2.953164\n",
      "Engine_Type         10.436293\n",
      "Fatal_Injuries       0.000000\n",
      "Serious_Injuries     0.000000\n",
      "Minor_Injuries       0.000000\n",
      "Uninjured            0.000000\n",
      "Weather              2.425336\n",
      "Report_Status       12.420659\n",
      "City                 0.000000\n",
      "State                0.000000\n",
      "Model_Simplified     0.000000\n",
      "Make_Model           0.006681\n",
      "Total_Passengers     0.000000\n",
      "dtype: float64\n"
     ]
    }
   ],
   "source": [
    "#Percentage of null values in each column\n",
    "print((df.isnull().sum()/df.shape[0]*100))"
   ]
  },
  {
   "cell_type": "markdown",
   "id": "e3a91f0c",
   "metadata": {},
   "source": [
    "The fields that have null values are Injury Severity, Damage, Make, Engine_Type, Weather, and Report Status. All are under 13% so let's eliminate rows with null values."
   ]
  },
  {
   "cell_type": "code",
   "execution_count": 116,
   "id": "4d6fafa7",
   "metadata": {},
   "outputs": [],
   "source": [
    "##Drop Report Status\n",
    "df=df.drop(['Report_Status'],axis=1)"
   ]
  },
  {
   "cell_type": "code",
   "execution_count": 117,
   "id": "75324f10",
   "metadata": {},
   "outputs": [],
   "source": [
    "#Drop some rows with missing data\n",
    "df.dropna(inplace=True)"
   ]
  },
  {
   "cell_type": "code",
   "execution_count": 118,
   "id": "081b891d",
   "metadata": {},
   "outputs": [
    {
     "data": {
      "text/plain": [
       "ID                  0\n",
       "Type                0\n",
       "Accident_Number     0\n",
       "Date                0\n",
       "Country             0\n",
       "Injury_Severity     0\n",
       "Damage              0\n",
       "Category            0\n",
       "Make                0\n",
       "Model               0\n",
       "Amateur_Built       0\n",
       "Engines             0\n",
       "Engine_Type         0\n",
       "Fatal_Injuries      0\n",
       "Serious_Injuries    0\n",
       "Minor_Injuries      0\n",
       "Uninjured           0\n",
       "Weather             0\n",
       "City                0\n",
       "State               0\n",
       "Model_Simplified    0\n",
       "Make_Model          0\n",
       "Total_Passengers    0\n",
       "dtype: int64"
      ]
     },
     "execution_count": 118,
     "metadata": {},
     "output_type": "execute_result"
    }
   ],
   "source": [
    "#Confirming there is no missing data\n",
    "df.isnull().sum()"
   ]
  },
  {
   "cell_type": "code",
   "execution_count": 119,
   "id": "9c481804",
   "metadata": {},
   "outputs": [
    {
     "data": {
      "text/plain": [
       "(12917, 23)"
      ]
     },
     "execution_count": 119,
     "metadata": {},
     "output_type": "execute_result"
    }
   ],
   "source": [
    "#Confirming how many rows we are left with\n",
    "df.shape"
   ]
  },
  {
   "cell_type": "markdown",
   "id": "ffdf61d3",
   "metadata": {},
   "source": [
    "We are left with 14,967 entries and 16 columns."
   ]
  },
  {
   "cell_type": "markdown",
   "id": "26663a61",
   "metadata": {},
   "source": [
    "## Data Preparation Summary\n",
    "\n",
    "Here is a recap of the steps we took for data preparation:\n",
    "\n",
    "- Changed Event Date to datetime format.\n",
    "- Checked for duplicates.\n",
    "- Checked for null values and decided to drop columns that contained over 30% null values.\n",
    "- Dropped columns that we did not need for this partifcular analysis.\n",
    "- Split Injury Severity column to only contain the first word since the exact number is contained in the other columns.\n",
    "- Renamed columns to simplify analyses.\n",
    "- Replaced variations of value Unknown with a standardized version.\n",
    "- Limited data set to just USA.\n",
    "- Split location into city and state columns.\n",
    "- Create simplified Model column containing zero to three digits or letters of Model to contain larger groups of Models and give us the ability to drill down if needed.\n",
    "- Created column with total number of passengers.\n",
    "- Limited data to Airplanes with fewer than 20 passengers\n",
    "- Limited data to exclude amateur-built airplanes\n",
    "- Limited data to exclude entries from after the year 2000.\n",
    "- Dropped Report Status column\n",
    "- Dropped rest of the null values."
   ]
  },
  {
   "cell_type": "code",
   "execution_count": 120,
   "id": "baed55fc",
   "metadata": {},
   "outputs": [],
   "source": [
    "df.to_csv('aviation.csv')"
   ]
  },
  {
   "cell_type": "markdown",
   "id": "02d61b90",
   "metadata": {},
   "source": [
    "# Exploratory Data Analysis"
   ]
  },
  {
   "cell_type": "markdown",
   "id": "80e3bf9b",
   "metadata": {},
   "source": [
    "import seaborn as sns"
   ]
  },
  {
   "cell_type": "code",
   "execution_count": 121,
   "id": "e119c269",
   "metadata": {},
   "outputs": [],
   "source": [
    "import seaborn as sns"
   ]
  },
  {
   "cell_type": "markdown",
   "id": "102ec385",
   "metadata": {},
   "source": [
    "## Exploring Engines"
   ]
  },
  {
   "cell_type": "code",
   "execution_count": 122,
   "id": "8d297774",
   "metadata": {},
   "outputs": [
    {
     "name": "stdout",
     "output_type": "stream",
     "text": [
      "<class 'pandas.core.frame.DataFrame'>\n",
      "Index: 12917 entries, 50682 to 88767\n",
      "Data columns (total 23 columns):\n",
      " #   Column            Non-Null Count  Dtype         \n",
      "---  ------            --------------  -----         \n",
      " 0   ID                12917 non-null  object        \n",
      " 1   Type              12917 non-null  object        \n",
      " 2   Accident_Number   12917 non-null  object        \n",
      " 3   Date              12917 non-null  datetime64[ns]\n",
      " 4   Country           12917 non-null  object        \n",
      " 5   Injury_Severity   12917 non-null  object        \n",
      " 6   Damage            12917 non-null  object        \n",
      " 7   Category          12917 non-null  object        \n",
      " 8   Make              12917 non-null  object        \n",
      " 9   Model             12917 non-null  object        \n",
      " 10  Amateur_Built     12917 non-null  object        \n",
      " 11  Engines           12917 non-null  float64       \n",
      " 12  Engine_Type       12917 non-null  object        \n",
      " 13  Fatal_Injuries    12917 non-null  float64       \n",
      " 14  Serious_Injuries  12917 non-null  float64       \n",
      " 15  Minor_Injuries    12917 non-null  float64       \n",
      " 16  Uninjured         12917 non-null  float64       \n",
      " 17  Weather           12917 non-null  object        \n",
      " 18  City              12917 non-null  object        \n",
      " 19  State             12917 non-null  object        \n",
      " 20  Model_Simplified  12917 non-null  object        \n",
      " 21  Make_Model        12917 non-null  object        \n",
      " 22  Total_Passengers  12917 non-null  float64       \n",
      "dtypes: datetime64[ns](1), float64(6), object(16)\n",
      "memory usage: 2.4+ MB\n"
     ]
    }
   ],
   "source": [
    "df.info()"
   ]
  },
  {
   "cell_type": "code",
   "execution_count": 123,
   "id": "dd058879",
   "metadata": {},
   "outputs": [
    {
     "data": {
      "text/plain": [
       "Engines\n",
       "1.0    11516\n",
       "2.0     1374\n",
       "4.0       17\n",
       "3.0        8\n",
       "0.0        1\n",
       "8.0        1\n",
       "Name: count, dtype: int64"
      ]
     },
     "execution_count": 123,
     "metadata": {},
     "output_type": "execute_result"
    }
   ],
   "source": [
    "df.Engines.value_counts()"
   ]
  },
  {
   "cell_type": "code",
   "execution_count": 124,
   "id": "963d5a2f",
   "metadata": {},
   "outputs": [
    {
     "data": {
      "text/plain": [
       "Text(0, 0.5, 'Number of Accidents')"
      ]
     },
     "execution_count": 124,
     "metadata": {},
     "output_type": "execute_result"
    },
    {
     "data": {
      "image/png": "[encoded data removed]",
      "text/plain": [
       "<Figure size 1600x900 with 1 Axes>"
      ]
     },
     "metadata": {},
     "output_type": "display_data"
    }
   ],
   "source": [
    "fig, ax = plt.subplots(figsize=(16,9))\n",
    "sns.set_style('white')\n",
    "engines=sns.barplot(x=df['Engines'].value_counts().index, y=df['Engines'].value_counts().values,data=df, palette='Blues')\n",
    "engines.set_title('Number of Engines on Airplane')\n",
    "engines.set_xlabel('Number of Engines')\n",
    "engines.set_ylabel('Number of Accidents')"
   ]
  },
  {
   "cell_type": "markdown",
   "id": "196ed68b",
   "metadata": {},
   "source": [
    "It makes sense that the most aircraft involved in incidents in our dataset only had one engine. That means there is no other engine to rely on if one fails and there is less time for an emergency landing."
   ]
  },
  {
   "cell_type": "code",
   "execution_count": 125,
   "id": "84a9059f",
   "metadata": {},
   "outputs": [
    {
     "data": {
      "text/plain": [
       "Engine_Type\n",
       "Reciprocating    11768\n",
       "Turbo Prop         886\n",
       "Turbo Fan          191\n",
       "Turbo Jet           63\n",
       "Turbo Shaft          5\n",
       "Electric             4\n",
       "Name: count, dtype: int64"
      ]
     },
     "execution_count": 125,
     "metadata": {},
     "output_type": "execute_result"
    }
   ],
   "source": [
    "#Exploring Engine Types\n",
    "df['Engine_Type'].value_counts()"
   ]
  },
  {
   "cell_type": "code",
   "execution_count": 126,
   "id": "86ebd84a",
   "metadata": {},
   "outputs": [
    {
     "data": {
      "text/plain": [
       "Text(0, 0.5, 'Number of Accidents')"
      ]
     },
     "execution_count": 126,
     "metadata": {},
     "output_type": "execute_result"
    },
    {
     "data": {
      "image/png": "[encoded data removed]",
      "text/plain": [
       "<Figure size 1600x900 with 1 Axes>"
      ]
     },
     "metadata": {},
     "output_type": "display_data"
    }
   ],
   "source": [
    "#Plotting Engine Types\n",
    "fig, ax = plt.subplots(figsize=(16,9))\n",
    "sns.set_style('white')\n",
    "engines=sns.barplot(x=df['Engine_Type'].value_counts().index, y=df['Engine_Type'].value_counts().values,data=df, palette='Blues')\n",
    "engines.set_title('Engines Involved in Accidents')\n",
    "engines.set_xlabel('Engine Type')\n",
    "engines.set_ylabel('Number of Accidents')"
   ]
  },
  {
   "cell_type": "markdown",
   "id": "f7535a8e",
   "metadata": {},
   "source": [
    "Looks like Reciprocating Engines are involved in the most crashes. Let's filter aircraft with zero and one engine out of the dataset and see if this result changes."
   ]
  },
  {
   "cell_type": "code",
   "execution_count": 127,
   "id": "958d30c7",
   "metadata": {},
   "outputs": [
    {
     "data": {
      "text/plain": [
       "Engines\n",
       "2.0    1374\n",
       "4.0      17\n",
       "3.0       8\n",
       "8.0       1\n",
       "Name: count, dtype: int64"
      ]
     },
     "execution_count": 127,
     "metadata": {},
     "output_type": "execute_result"
    }
   ],
   "source": [
    "df_subset=df[df['Engines']>=2]\n",
    "df_subset.Engines.value_counts()"
   ]
  },
  {
   "cell_type": "code",
   "execution_count": 128,
   "id": "f3415482",
   "metadata": {
    "scrolled": true
   },
   "outputs": [
    {
     "data": {
      "text/plain": [
       "Text(0, 0.5, 'Number of Accidents')"
      ]
     },
     "execution_count": 128,
     "metadata": {},
     "output_type": "execute_result"
    },
    {
     "data": {
      "image/png": "[encoded data removed]",
      "text/plain": [
       "<Figure size 1600x900 with 1 Axes>"
      ]
     },
     "metadata": {},
     "output_type": "display_data"
    }
   ],
   "source": [
    "fig, ax = plt.subplots(figsize=(16,9))\n",
    "sns.set_style('white')\n",
    "engines=sns.barplot(x=df_subset['Engine_Type'].value_counts().index, y=df_subset['Engine_Type'].value_counts().values,data=df_subset, palette='Blues')\n",
    "engines.set_title('Engines Involved in Accidents')\n",
    "engines.set_xlabel('Engine Type')\n",
    "engines.set_ylabel('Number of Accidents')"
   ]
  },
  {
   "cell_type": "markdown",
   "id": "155886c0",
   "metadata": {},
   "source": [
    "Reciprocating still seems to be involved in the most crashes, but there is not as a drastic of a difference between Reciprocating and Turbo Fan now. Although it still seems that reciprocating engines are involved in the most accidents, so let's filter them out."
   ]
  },
  {
   "cell_type": "code",
   "execution_count": 129,
   "id": "4e40d810",
   "metadata": {},
   "outputs": [
    {
     "data": {
      "text/plain": [
       "Engine_Type\n",
       "Turbo Prop     273\n",
       "Turbo Fan      182\n",
       "Turbo Jet       34\n",
       "Electric         2\n",
       "Turbo Shaft      1\n",
       "Name: count, dtype: int64"
      ]
     },
     "execution_count": 129,
     "metadata": {},
     "output_type": "execute_result"
    }
   ],
   "source": [
    "df_subset=df_subset[df_subset['Engine_Type']!='Reciprocating']\n",
    "df_subset.Engine_Type.value_counts()"
   ]
  },
  {
   "cell_type": "code",
   "execution_count": 130,
   "id": "594b918a",
   "metadata": {},
   "outputs": [
    {
     "name": "stdout",
     "output_type": "stream",
     "text": [
      "<class 'pandas.core.frame.DataFrame'>\n",
      "Index: 492 entries, 58138 to 88158\n",
      "Data columns (total 23 columns):\n",
      " #   Column            Non-Null Count  Dtype         \n",
      "---  ------            --------------  -----         \n",
      " 0   ID                492 non-null    object        \n",
      " 1   Type              492 non-null    object        \n",
      " 2   Accident_Number   492 non-null    object        \n",
      " 3   Date              492 non-null    datetime64[ns]\n",
      " 4   Country           492 non-null    object        \n",
      " 5   Injury_Severity   492 non-null    object        \n",
      " 6   Damage            492 non-null    object        \n",
      " 7   Category          492 non-null    object        \n",
      " 8   Make              492 non-null    object        \n",
      " 9   Model             492 non-null    object        \n",
      " 10  Amateur_Built     492 non-null    object        \n",
      " 11  Engines           492 non-null    float64       \n",
      " 12  Engine_Type       492 non-null    object        \n",
      " 13  Fatal_Injuries    492 non-null    float64       \n",
      " 14  Serious_Injuries  492 non-null    float64       \n",
      " 15  Minor_Injuries    492 non-null    float64       \n",
      " 16  Uninjured         492 non-null    float64       \n",
      " 17  Weather           492 non-null    object        \n",
      " 18  City              492 non-null    object        \n",
      " 19  State             492 non-null    object        \n",
      " 20  Model_Simplified  492 non-null    object        \n",
      " 21  Make_Model        492 non-null    object        \n",
      " 22  Total_Passengers  492 non-null    float64       \n",
      "dtypes: datetime64[ns](1), float64(6), object(16)\n",
      "memory usage: 92.2+ KB\n"
     ]
    }
   ],
   "source": [
    "df_subset.info()"
   ]
  },
  {
   "cell_type": "markdown",
   "id": "647d9191",
   "metadata": {},
   "source": [
    "## Exploring Makes"
   ]
  },
  {
   "cell_type": "code",
   "execution_count": 131,
   "id": "cca65a27",
   "metadata": {},
   "outputs": [
    {
     "data": {
      "text/plain": [
       "Text(0, 0.5, 'Number of Accidents')"
      ]
     },
     "execution_count": 131,
     "metadata": {},
     "output_type": "execute_result"
    },
    {
     "data": {
      "image/png": "[encoded data removed]",
      "text/plain": [
       "<Figure size 1600x900 with 1 Axes>"
      ]
     },
     "metadata": {},
     "output_type": "display_data"
    }
   ],
   "source": [
    "#Showing Top Makes Involved in Accidents\n",
    "fig, ax = plt.subplots(figsize=(16,9))\n",
    "sns.set_style('white')\n",
    "df_make=sns.barplot(data=df_subset, x=df_subset.Make.value_counts().index[:10], y=df_subset.Make.value_counts().values[:10], palette='Blues')\n",
    "df_make.set_title('Top 10 Makes in Accidents')\n",
    "df_make.set_xlabel('Make')\n",
    "df_make.set_xticklabels(df_subset.Make.value_counts().index[:10], rotation=-45)\n",
    "df_make.set_ylabel('Number of Accidents')"
   ]
  },
  {
   "cell_type": "code",
   "execution_count": 132,
   "id": "df0e915e",
   "metadata": {},
   "outputs": [
    {
     "name": "stdout",
     "output_type": "stream",
     "text": [
      "Injury_Severity            Fatal  Non-Fatal\n",
      "Make                                       \n",
      "Beech                       24.0       98.0\n",
      "Cessna                      21.0       68.0\n",
      "Raytheon Aircraft Company    3.0       19.0\n",
      "Boeing                       1.0       12.0\n",
      "Swearingen                   NaN       10.0\n",
      "Embraer                      1.0        9.0\n",
      "Dehavilland                  3.0        8.0\n",
      "Piaggio                      NaN        8.0\n",
      "Piper                       11.0        8.0\n",
      "Mitsubishi                   3.0        8.0\n"
     ]
    }
   ],
   "source": [
    "#Grouping Top 10 Makes by Fatal and Nonfatal\n",
    "grouped_make=df_subset.groupby(['Make','Injury_Severity']).size().unstack().sort_values(by='Non-Fatal', ascending=False).head(10)\n",
    "print(grouped_make)"
   ]
  },
  {
   "cell_type": "code",
   "execution_count": 133,
   "id": "6ff79863",
   "metadata": {},
   "outputs": [
    {
     "data": {
      "image/png": "[encoded data removed]",
      "text/plain": [
       "<Figure size 1600x900 with 1 Axes>"
      ]
     },
     "metadata": {},
     "output_type": "display_data"
    }
   ],
   "source": [
    "grouped_make.plot(kind='bar',stacked=False, figsize=(16,9))\n",
    "plt.ylabel('Number of Accidents')\n",
    "plt.title('Injury Severity of Top 10 Makes')\n",
    "plt.show()"
   ]
  },
  {
   "cell_type": "code",
   "execution_count": null,
   "id": "37cd3227",
   "metadata": {},
   "outputs": [],
   "source": []
  },
  {
   "cell_type": "code",
   "execution_count": null,
   "id": "9248766e",
   "metadata": {},
   "outputs": [],
   "source": []
  },
  {
   "cell_type": "code",
   "execution_count": null,
   "id": "d0614e85",
   "metadata": {},
   "outputs": [],
   "source": []
  },
  {
   "cell_type": "markdown",
   "id": "8458daf6",
   "metadata": {},
   "source": [
    "## Exploring Make and Model"
   ]
  },
  {
   "cell_type": "code",
   "execution_count": 134,
   "id": "9f0d9a37",
   "metadata": {},
   "outputs": [
    {
     "data": {
      "text/plain": [
       "Make_Model\n",
       "Beech-200                16\n",
       "Cessna-550               15\n",
       "Beech-C90                12\n",
       "Cessna-525               10\n",
       "Cessna-560                9\n",
       "                         ..\n",
       "Gulfstream-GVI            1\n",
       "Beech-BE99                1\n",
       "Beech-90B                 1\n",
       "Bombardier-BD700 1A10     1\n",
       "Bombardier-BD100 1A10     1\n",
       "Name: count, Length: 254, dtype: int64"
      ]
     },
     "execution_count": 134,
     "metadata": {},
     "output_type": "execute_result"
    }
   ],
   "source": [
    "df_subset.Make_Model.value_counts()"
   ]
  },
  {
   "cell_type": "code",
   "execution_count": 135,
   "id": "7cd7d6cc",
   "metadata": {},
   "outputs": [
    {
     "name": "stdout",
     "output_type": "stream",
     "text": [
      "Injury_Severity                 Fatal  Non-Fatal\n",
      "Make_Model                                      \n",
      "Cessna-550                        NaN       15.0\n",
      "Beech-200                         4.0       12.0\n",
      "Beech-C90                         2.0       10.0\n",
      "Cessna-560XL                      NaN        9.0\n",
      "Beech-B200                        NaN        7.0\n",
      "Cessna-560                        2.0        7.0\n",
      "Piaggio-P180                      NaN        5.0\n",
      "Raytheon Aircraft Company-B200    NaN        5.0\n",
      "Beech-1900C                       3.0        5.0\n",
      "Raytheon Aircraft Company-400A    NaN        5.0\n"
     ]
    }
   ],
   "source": [
    "#Grouping Top 10 Models by Fatal and Nonfatal\n",
    "grouped_makemodel=df_subset.groupby(['Make_Model','Injury_Severity']).size().unstack().sort_values(by='Non-Fatal', ascending=False).head(10)\n",
    "print(grouped_makemodel)"
   ]
  },
  {
   "cell_type": "code",
   "execution_count": 136,
   "id": "168efa9a",
   "metadata": {},
   "outputs": [
    {
     "data": {
      "image/png": "[encoded data removed]",
      "text/plain": [
       "<Figure size 1600x900 with 1 Axes>"
      ]
     },
     "metadata": {},
     "output_type": "display_data"
    }
   ],
   "source": [
    "grouped_makemodel.plot(kind='bar',stacked=False, figsize=(16,9))\n",
    "plt.xlabel('Make and Model')\n",
    "plt.ylabel('Number of Accients')\n",
    "plt.title('Injury Severity of Top 10 Aircraft')\n",
    "plt.show()"
   ]
  },
  {
   "cell_type": "code",
   "execution_count": 137,
   "id": "71b5a1e8",
   "metadata": {},
   "outputs": [
    {
     "data": {
      "image/png": "[encoded data removed]",
      "text/plain": [
       "<Figure size 640x480 with 1 Axes>"
      ]
     },
     "metadata": {},
     "output_type": "display_data"
    }
   ],
   "source": [
    "df_subset['Make_Model'].value_counts().head(20).plot(kind='bar')\n",
    "plt.xlabel('Make and Model')\n",
    "plt.ylabel('Number of Accidents')\n",
    "plt.title('Top 20 Aircraft Involved in Accidents')\n",
    "plt.show()"
   ]
  },
  {
   "cell_type": "code",
   "execution_count": 138,
   "id": "518f1e49",
   "metadata": {},
   "outputs": [
    {
     "data": {
      "text/plain": [
       "Make_Model\n",
       "Morane-Saulnier-MS-760/B                   1\n",
       "Fairchild-SW3                              1\n",
       "Convair-CV-580                             1\n",
       "Bombardier Inc-BD-100-1A10                 1\n",
       "Mitsubishi-MU-2B-26A                       1\n",
       "Beech-C90 - A                              1\n",
       "Mitsubishi-MU-2B-25                        1\n",
       "Learjet Inc-31A                            1\n",
       "Embraer-EMB120                             1\n",
       "Bombardier Learjet Corp.-35A               1\n",
       "Rockwell International-690C                1\n",
       "Short Bros. & Harland-SC7 SERIES 3         1\n",
       "Short Bros-SHORTS SD3-60                   1\n",
       "Beech-400A                                 1\n",
       "Raytheon Aircraft Company-C90GT            1\n",
       "British Aerospace-BAE JETSTREAM 3101       1\n",
       "Rockwell International-690A                1\n",
       "Learjet-36A                                1\n",
       "Mcdonnell Douglas-MD-11F                   1\n",
       "Beech-390                                  1\n",
       "Hawker Beechcraft Corporation-390          1\n",
       "Hawker Beechcraft-B200GT                   1\n",
       "Iai-GULFSTREAM200                          1\n",
       "Rockwell-NA-265-65                         1\n",
       "Embraer S A-EMB-505                        1\n",
       "Airbus-A300 - F4 622R                      1\n",
       "Piaggio Aero Industries Spa-P180           1\n",
       "Mcdonnell Douglas-DC-9-51                  1\n",
       "Grumman American Avn. Corp.-G-1159         1\n",
       "Boeing-707-321B                            1\n",
       "Boeing-737                                 1\n",
       "Hawker Beechcraft-390                      1\n",
       "Embraer-500                                1\n",
       "Piaggio-P-180                              1\n",
       "Bombardier-CL600 2D24                      1\n",
       "Short Bros. & Harland-SHORTS SC7 SKYVAN    1\n",
       "Gates Lear Jet-25B                         1\n",
       "Potez-Air Fouga-CM 170 MAGISTER            1\n",
       "Boeing-757-2Q8                             1\n",
       "Hawker Beechcraft Corp.-C90                1\n",
       "Gulfstream Aerospace Corp.-GV-SP           1\n",
       "Dehavilland-DHC-6-100                      1\n",
       "Airbus-F4-622R                             1\n",
       "Dassault-Breguet-Falcon 10                 1\n",
       "Boeing-737-301                             1\n",
       "Gulfstream-GVI                             1\n",
       "Beech-BE99                                 1\n",
       "Beech-90B                                  1\n",
       "Bombardier-BD700 1A10                      1\n",
       "Bombardier-BD100 1A10                      1\n",
       "Name: count, dtype: int64"
      ]
     },
     "execution_count": 138,
     "metadata": {},
     "output_type": "execute_result"
    }
   ],
   "source": [
    "df_subset['Make_Model'].value_counts().tail(50)"
   ]
  },
  {
   "cell_type": "markdown",
   "id": "e68919fb",
   "metadata": {},
   "source": [
    "Beech and Cessna are involved in the most accidents."
   ]
  },
  {
   "cell_type": "markdown",
   "id": "eae46592",
   "metadata": {},
   "source": [
    "## Exploring Locations"
   ]
  },
  {
   "cell_type": "code",
   "execution_count": 139,
   "id": "babb23f4",
   "metadata": {},
   "outputs": [
    {
     "name": "stdout",
     "output_type": "stream",
     "text": [
      "Injury_Severity  Fatal  Non-Fatal\n",
      "State                            \n",
      " AK                2.0       23.0\n",
      " AL                2.0        4.0\n",
      " AO                2.0        NaN\n",
      " AR                1.0        2.0\n",
      " AZ                3.0       11.0\n",
      " CA                4.0       36.0\n",
      " CO                2.0       20.0\n",
      " CT                1.0        2.0\n",
      " FL                6.0       30.0\n",
      " GA                9.0       11.0\n",
      " HI                2.0        2.0\n",
      " IA                1.0        6.0\n",
      " ID                NaN        5.0\n",
      " IL                3.0       13.0\n",
      " IN                3.0       10.0\n",
      " KS                1.0        1.0\n",
      " KY                NaN        3.0\n",
      " LA                3.0        1.0\n",
      " MA                2.0        3.0\n",
      " MD                1.0        3.0\n",
      " ME                1.0        1.0\n",
      " MI                2.0        8.0\n",
      " MN                1.0        8.0\n",
      " MO                1.0       11.0\n",
      " MS                1.0        3.0\n",
      " MT                3.0        4.0\n",
      " NC                2.0        8.0\n",
      " ND                1.0        4.0\n",
      " NE                1.0        4.0\n",
      " NH                NaN        1.0\n",
      " NJ                1.0        9.0\n",
      " NM                2.0        3.0\n",
      " NV                3.0       10.0\n",
      " NY                NaN       13.0\n",
      " OF                NaN        1.0\n",
      " OH                6.0        4.0\n",
      " OK                3.0        7.0\n",
      " OR                1.0        4.0\n",
      " PA                1.0        6.0\n",
      " PR                2.0        4.0\n",
      " RI                NaN        1.0\n",
      " SC                3.0        8.0\n",
      " SD                NaN        1.0\n",
      " TN                1.0       11.0\n",
      " TX               12.0       31.0\n",
      " UT                3.0       12.0\n",
      " VA                2.0        5.0\n",
      " VT                NaN        1.0\n",
      " WA                1.0        6.0\n",
      " WI                NaN        8.0\n",
      " WV                2.0        1.0\n",
      " WY                NaN        4.0\n"
     ]
    }
   ],
   "source": [
    "grouped_location=df_subset.groupby(['State','Injury_Severity']).size().unstack()\n",
    "print(grouped_location)"
   ]
  },
  {
   "cell_type": "code",
   "execution_count": 140,
   "id": "9db95d39",
   "metadata": {},
   "outputs": [
    {
     "data": {
      "image/png": "[encoded data removed]",
      "text/plain": [
       "<Figure size 1600x900 with 1 Axes>"
      ]
     },
     "metadata": {},
     "output_type": "display_data"
    }
   ],
   "source": [
    "grouped_location.plot(kind='bar',stacked=False, figsize=(16,9))\n",
    "plt.ylabel('Number of Accidents')\n",
    "plt.title('Fatal and Non-Fatal Accidents in Each State')\n",
    "plt.show()"
   ]
  },
  {
   "cell_type": "code",
   "execution_count": 141,
   "id": "c3ff5ad8",
   "metadata": {},
   "outputs": [
    {
     "data": {
      "image/png": "[encoded data removed]",
      "text/plain": [
       "<Figure size 640x480 with 1 Axes>"
      ]
     },
     "metadata": {},
     "output_type": "display_data"
    }
   ],
   "source": [
    "#Plotting 10 states with the most Accidents\n",
    "df_subset.State.value_counts().head(10).plot(kind='bar')\n",
    "plt.ylabel('Number of Accidents')\n",
    "plt.title('10 States with Most Accidents')\n",
    "plt.show()"
   ]
  },
  {
   "cell_type": "markdown",
   "id": "e9c0b1c0",
   "metadata": {},
   "source": [
    "Texas, California, and Florida seem to have the most accidents in them. I don't think this is a particularly significant finding though as they are some of the most highly populated states in the USA so it is probably because the total number of flights is higher in those states to begin with.}"
   ]
  },
  {
   "cell_type": "markdown",
   "id": "b91265e2",
   "metadata": {},
   "source": [
    "## Exploring Accidents by Month"
   ]
  },
  {
   "cell_type": "code",
   "execution_count": 142,
   "id": "7a319886",
   "metadata": {},
   "outputs": [],
   "source": [
    "df_subset['Month'] = pd.DatetimeIndex(df_subset['Date']).month"
   ]
  },
  {
   "cell_type": "code",
   "execution_count": 143,
   "id": "4c9399f6",
   "metadata": {},
   "outputs": [],
   "source": [
    "import calendar\n",
    "df_subset['Month'] = df_subset['Month'].apply(lambda x: calendar.month_abbr[x])"
   ]
  },
  {
   "cell_type": "code",
   "execution_count": 144,
   "id": "af2f242c",
   "metadata": {},
   "outputs": [
    {
     "data": {
      "text/plain": [
       "Month\n",
       "Feb    58\n",
       "Jun    50\n",
       "Mar    46\n",
       "May    45\n",
       "Dec    45\n",
       "Jan    41\n",
       "Sep    38\n",
       "Apr    36\n",
       "Aug    35\n",
       "Oct    34\n",
       "Nov    32\n",
       "Jul    32\n",
       "Name: count, dtype: int64"
      ]
     },
     "execution_count": 144,
     "metadata": {},
     "output_type": "execute_result"
    }
   ],
   "source": [
    "df_subset['Month'].value_counts()"
   ]
  },
  {
   "cell_type": "code",
   "execution_count": 145,
   "id": "0f0c6404",
   "metadata": {},
   "outputs": [
    {
     "data": {
      "image/png": "[encoded data removed]",
      "text/plain": [
       "<Figure size 640x480 with 1 Axes>"
      ]
     },
     "metadata": {},
     "output_type": "display_data"
    }
   ],
   "source": [
    "df_subset['Month'].value_counts().plot(kind='bar')\n",
    "plt.ylabel('Number of Accidents')\n",
    "plt.title('Number of Accidents by Month')\n",
    "plt.show()"
   ]
  },
  {
   "cell_type": "markdown",
   "id": "8c13c411",
   "metadata": {},
   "source": [
    "Although there the most accidents occurred in February, there doesn't seem to be a specific pattern or season that emerges as the most dangerous."
   ]
  },
  {
   "cell_type": "code",
   "execution_count": 146,
   "id": "c3936dc4",
   "metadata": {},
   "outputs": [],
   "source": [
    "#Exporting filtered data set\n",
    "df_subset.to_csv('aviation_subset.csv')"
   ]
  },
  {
   "cell_type": "markdown",
   "id": "048304b5",
   "metadata": {},
   "source": [
    "# Conclusions"
   ]
  },
  {
   "cell_type": "markdown",
   "id": "9ab735df",
   "metadata": {},
   "source": [
    "## Limitations"
   ]
  },
  {
   "cell_type": "markdown",
   "id": "366dc067",
   "metadata": {},
   "source": [
    "The analysis above has the following limitations:\n",
    "1. Limited to the United States.\n",
    "2. Limited to accidents reported in the the Aviation Accident Database & Synopses.\n",
    "3. This analysis excludes Amateur Built aircraft and incidents before the year 2000. Use the  Aviation Accident Database & Synopses dataset. The NTSB aviation accident database contains information from 1962 and later about civil aviation accidents and selected incidents within the United States, its territories and possessions, and in international waters."
   ]
  },
  {
   "cell_type": "markdown",
   "id": "f37c6605",
   "metadata": {},
   "source": [
    "## Recommendations"
   ]
  },
  {
   "cell_type": "markdown",
   "id": "0eefd1d0",
   "metadata": {},
   "source": [
    "### Engine\n",
    "* It is not recommended to buy planes with less than two engines because it is smart to have a backup engine if one fails.\n",
    "* Avoid reciprocating engines as they are associated with the most accidents.\n",
    "\n",
    "### Make and Model\n",
    "* Beech and Cessna are the makes of the airplanes with the most accidents. \n",
    "* Specifically, the Beech-200, Cessna-550, and Beech-C90 are the private aircrafts with the most accidents.\n",
    "\n"
   ]
  },
  {
   "cell_type": "markdown",
   "id": "6cb12d49",
   "metadata": {},
   "source": [
    "## Next Steps"
   ]
  },
  {
   "cell_type": "markdown",
   "id": "6595015a",
   "metadata": {},
   "source": [
    "1. The main source of data for this analysis was an accident database which is a specific set of information that is going to include “riskier” investments by the nature of the database. I recommend exploring other data points that will also inform this investment decision such as market share, reviews, awards, and data from outside the US.\n",
    "2. To explore potential commercial aircraft investments, find a dataset that contains more information on commercial planes as this may yield more robust results in this category. Further research is required. \n"
   ]
  },
  {
   "cell_type": "code",
   "execution_count": null,
   "id": "f48999d7",
   "metadata": {},
   "outputs": [],
   "source": []
  }
 ],
 "metadata": {
  "kernelspec": {
   "display_name": "Python (learn-env)",
   "language": "python",
   "name": "learn-env"
  },
  "language_info": {
   "codemirror_mode": {
    "name": "ipython",
    "version": 3
   },
   "file_extension": ".py",
   "mimetype": "text/x-python",
   "name": "python",
   "nbconvert_exporter": "python",
   "pygments_lexer": "ipython3",
   "version": "3.11.5"
  }
 },
 "nbformat": 4,
 "nbformat_minor": 5
}
